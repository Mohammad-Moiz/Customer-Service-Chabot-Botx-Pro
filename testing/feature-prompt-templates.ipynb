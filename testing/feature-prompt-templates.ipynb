{
 "cells": [
  {
   "cell_type": "code",
   "execution_count": 1,
   "metadata": {},
   "outputs": [],
   "source": [
    "import os, time\n",
    "import sys\n",
    "from dotenv import load_dotenv\n",
    "# sys.path.append('..')\n",
    "from config import *\n",
    "from utility_functions import *\n"
   ]
  },
  {
   "cell_type": "markdown",
   "metadata": {},
   "source": [
    "### Chat Model"
   ]
  },
  {
   "cell_type": "code",
   "execution_count": 2,
   "metadata": {},
   "outputs": [],
   "source": [
    "load_dotenv()\n",
    "from langchain_google_genai import ChatGoogleGenerativeAI\n",
    "\n",
    "llm = ChatGoogleGenerativeAI(\n",
    "            model='gemini-pro', \n",
    "            google_api_key=os.environ.get(\"YOUR_API_KEY\"),\n",
    "            generation_config=generation_config,\n",
    "            safety_settings=safety_settings,\n",
    "            convert_system_message_to_human=True,\n",
    "        )"
   ]
  },
  {
   "cell_type": "code",
   "execution_count": 3,
   "metadata": {},
   "outputs": [],
   "source": [
    "clean_text = remove_date_and_time('data/sami.txt')\n",
    "conversation = convert_into_list_of_dictionary(clean_text)"
   ]
  },
  {
   "cell_type": "code",
   "execution_count": 4,
   "metadata": {},
   "outputs": [
    {
     "data": {
      "text/plain": [
       "[{'speaker': 'Sami', 'message': 'InShaAllah chalen gay yrr'},\n",
       " {'speaker': 'Sami', 'message': 'Pata krta hn'},\n",
       " {'speaker': 'Saif Ur Rehman', 'message': 'sami kl free ho na?'},\n",
       " {'speaker': 'Sami', 'message': 'Time?'},\n",
       " {'speaker': 'Saif Ur Rehman', 'message': 'tum batao'},\n",
       " {'speaker': 'Sami', 'message': 'Restaurant socha?'},\n",
       " {'speaker': 'Saif Ur Rehman', 'message': 'nahi 😂'}]"
      ]
     },
     "execution_count": 4,
     "metadata": {},
     "output_type": "execute_result"
    }
   ],
   "source": [
    "conversation[18:25]"
   ]
  },
  {
   "cell_type": "code",
   "execution_count": 5,
   "metadata": {},
   "outputs": [
    {
     "name": "stdout",
     "output_type": "stream",
     "text": [
      "Type of conversation: <class 'list'>\n",
      "Type of the first element in conversation: <class 'dict'>\n",
      "First element: {'speaker': 'Sami', 'message': '<Media omitted>'}\n"
     ]
    }
   ],
   "source": [
    "# Check the type of 'conversation'\n",
    "print(\"Type of conversation:\", type(conversation))\n",
    "\n",
    "# If it's a list, print the type of its first element (if it exists)\n",
    "if isinstance(conversation, list) and conversation:\n",
    "    print(\"Type of the first element in conversation:\", type(conversation[0]))\n",
    "    print(\"First element:\", conversation[0])\n"
   ]
  },
  {
   "cell_type": "code",
   "execution_count": 6,
   "metadata": {},
   "outputs": [
    {
     "name": "stdout",
     "output_type": "stream",
     "text": [
      "[{'Sami': '<Media omitted>'}, {'Sami': '<Media omitted>'}, {'Sami': '<Media omitted>'}, {'Sami': '<Media omitted>'}, {'Sami': '<Media omitted>'}, {'Sami': '<Media omitted>'}, {'Sami': '<Media omitted>'}, {'Sami': '<Media omitted>'}, {'Sami': '<Media omitted>'}, {'Sami': '<Media omitted>'}, {'Sami': '<Media omitted>'}, {'Sami': '<Media omitted>'}, {'Sami': '<Media omitted>'}, {'Sami': '<Media omitted>'}, {'Saif Ur Rehman': '<Media omitted>'}, {'Sami': 'MashAllah'}, {'Sami': 'Ye kb say aa gaya yr new rule 😔'}, {'Saif Ur Rehman': 'may be trip groups k saath na applicable ho poochlo mera done h 3 months k baad'}, {'Sami': 'InShaAllah chalen gay yrr'}, {'Sami': 'Pata krta hn'}, {'Saif Ur Rehman': 'sami kl free ho na?'}, {'Sami': 'Time?'}, {'Saif Ur Rehman': 'tum batao'}, {'Sami': 'Restaurant socha?'}, {'Saif Ur Rehman': 'nahi 😂'}, {'Sami': 'Pehlay ye to socho 🤣'}, {'Sami': 'ap tumhara kaam hai restauraunt sochna yaad hai na?'}, {'Saif Ur Rehman': 'acha dekhta hun 😂'}, {'Sami': 'Set'}, {'Saif Ur Rehman': 'kab tk ana h'}, {'Sami': '<Media omitted>'}, {'Sami': 'Water pump mai hn abhi to'}, {'Sami': 'Raat ka rakho'}, {'Saif Ur Rehman': 'time btado'}, {'Sami': '8 bje'}, {'Sami': 'Sahi hai?'}, {'Saif Ur Rehman': 'set h bs nikal rha hun mn ghr se'}, {'Sami': '<Media omitted>'}, {'Sami': 'VID-20230820-WA0001.mp4 (file attached)'}, {'Sami': 'VID-20230820-WA0045.mp4 (file attached)'}, {'Sami': 'VID-20230820-WA0002.mp4 (file attached)'}, {'Sami': 'VID-20230820-WA0042.mp4 (file attached)'}, {'Sami': '<Media omitted>'}, {'Sami': '<Media omitted>'}, {'Sami': 'VID-20230820-WA0039.mp4 (file attached)'}, {'Sami': '<Media omitted>'}, {'Sami': '<Media omitted>'}, {'Sami': 'VID-20230820-WA0043.mp4 (file attached)'}, {'Sami': '<Media omitted>'}, {'Sami': '<Media omitted>'}, {'Sami': '<Media omitted>'}, {'Sami': '<Media omitted>'}, {'Sami': '<Media omitted>'}, {'Sami': '<Media omitted>'}, {'Sami': 'IMG-20230820-WA0007.jpg (file attached)'}, {'Sami': '<Media omitted>'}, {'Sami': 'IMG-20230820-WA0012.jpg (file attached)'}, {'Sami': '<Media omitted>'}, {'Sami': '<Media omitted>'}, {'Sami': 'IMG-20230820-WA0019.jpg (file attached)'}, {'Sami': '<Media omitted>'}, {'Sami': '<Media omitted>'}, {'Sami': 'IMG-20230820-WA0016.jpg (file attached)'}, {'Saif Ur Rehman': 'gaari vali video 👀'}, {'Sami': 'Woh sahi nahi hen 🤣'}, {'Saif Ur Rehman': 'dedo tum'}, {'Saif Ur Rehman': 'koi ek'}, {'Sami': '<Media omitted>'}, {'Sami': 'What are your goals for the next 10 years?'}, {'Saif Ur Rehman': \"1) Become experienced data scientist and data Engineer .. with in five years I want to see myself equivalent to silicon valley or google level developer + plus working in a tech giant company (I'm consistently working on this)\"}, {'Saif Ur Rehman': 'your?'}, {'Sami': 'Now'}, {'Sami': 'You have to think'}, {'Sami': 'How you can achieve all these in a year or two'}, {'Sami': 'This is what will keep you ahead of others'}, {'Sami': 'Just watched a video of Elon Musk'}, {'Sami': 'But this is true'}, {'Saif Ur Rehman': \"okay I'll watch this show\"}, {'Saif Ur Rehman': 'sami account no?'}, {'Sami': 'Why?'}, {'Saif Ur Rehman': 'aray btao na yr kitne transfer krne hain'}, {'Sami': 'Why?'}, {'Saif Ur Rehman': 'because mene bola tha uppar krlo drinks waghera mn or tax waghera mn krlunga'}, {'Sami': 'Why?'}, {'Saif Ur Rehman': 'acha tum account do'}, {'Sami': 'Why?'}, {'Sami': '😂'}, {'Saif Ur Rehman': '5k krdun?'}, {'Sami': 'Dekh lo'}, {'Sami': 'Masla to nahi hai na koi?'}, {'Sami': 'Warns khair hai'}, {'Saif Ur Rehman': 'nahi bhae kiyaa hogya 😂'}, {'Sami': '🤣'}, {'Sami': 'Acha deta hn'}, {'Sami': 'Bank Name: Askari Bank'}, {'Account Title': 'Abdus Sami'}, {'IBAN': 'PK59ASCM0002380320007404'}, {'Saif Ur Rehman': '<Media omitted>'}, {'Sami': 'Shukriya'}, {'Sami': 'Same amount ki treats ho gai ab dono ki'}, {'Saif Ur Rehman': 'waah kiya calculation h😂'}, {'Sami': '🤣'}, {'Sami': '<Media omitted>'}, {'Sami': 'https://youtu.be/xIgpurMf0BU'}, {'Saif Ur Rehman': 'passport bnwaliya h... 45 days mn jayga'}, {'Sami': 'Behtreen'}, {'Sami': '45 days mai ae ga?'}, {'Saif Ur Rehman': 'hn form pr 21 days likha tha pr unhon ne bola h ye purani date h... ab 45 days mn ayega'}, {'Sami': '<Media omitted>'}, {'Sami': 'Apply karo'}, {'Sami': 'Aap ko bhi phir free tickets milen gay 😅'}, {'Saif Ur Rehman': 'inko programming wala nh tools use krne wala data analyst chahiye... or 2 years of experience k saath 😂'}, {'Sami': 'Acha sahi'}, {'Sami': 'Lekin ye job freshers k liye hai max 2 years wala chal skta hai'}, {'Sami': 'Organization: Turkish Aerospace'}, {'Job Title': 'Avionics Software Engineer'}, {'- Knowledge in using at least one of the following version control tools': 'git, SVN,'}, {'To apply, visit': 'https://lnkd.in/dbai2BJ3'}, {'Saif Ur Rehman': 'sami plan h na dubai ka?'}, {'Sami': 'Yes'}, {'Sami': 'InSha Allah'}, {'Sami': 'Passport is week renew k liye dun ga InSha Allah'}, {'Sami': 'Dirhams bhi lay liye hen 😂'}, {'Saif Ur Rehman': 'InshaAllah'}, {'Sami': 'Passport aa gaya?'}, {'Sami': 'Yours'}, {'Saif Ur Rehman': 'next month k 1st week tk ajayega'}, {'Sami': 'InSha Allah'}, {'Saif Ur Rehman': 'https://youtu.be/56AD4lejvag?feature=shared'}, {'Saif Ur Rehman': 'must watch'}, {'Sami': 'Okay'}, {'Saif Ur Rehman': 'null'}, {'Saif Ur Rehman': 'sami 4 tk aunga mn ghr pr ho na?'}, {'Sami': 'Mai call kr dun ga jesay hi puhanchnay wala hun ga'}, {'Saif Ur Rehman': 'agye?'}, {'Sami': 'Nahi yr 😔'}, {'Saif Ur Rehman': 'chlo phir next week'}, {'Sami': 'Han yr InSha Allah'}, {'Sami': 'Kl hi beth jatay'}, {'Sami': 'Match dekhnay mai time hi barbaad hua 🥲'}, {'Saif Ur Rehman': 'settay'}, {'Saif Ur Rehman': 'null'}, {'Saif Ur Rehman': 'dirham 5 Rs down'}, {'Saif Ur Rehman': 'thore se khareedlo mere liye bhi.. mn paise bhejun?'}, {'Sami': 'Han or nechay janay k chances hen'}, {'Sami': 'Mai pata krta hn agar koi sell kr raha hai to'}, {'Sami': 'And will let you know'}, {'Saif Ur Rehman': 'null'}, {'Saif Ur Rehman': 'https://youtube.com/shorts/Xk8EIIJETwI?feature=shared'}, {'Sami': 'Hmm'}, {'Sami': 'Yahan bhi hen jaga mtlb ghomnay ki'}, {'Saif Ur Rehman': 'yess'}, {'Sami': '📸 Watch this reel on Facebook https://www.facebook.com/reel/617383653442192?fs=e&s=7MtrtK&mibextid=z9DgKg'}, {'Saif Ur Rehman': 'ok'}, {'Saif Ur Rehman': 'https://fb.watch/nR7l4MWjFR/?mibextid=Zrc6C0&startTimeMs=615715'}, {'Saif Ur Rehman': 'saudia bht ziada expensive h 😐  40k sirf Mecca se Khobar tk jane k hain'}, {'Saif Ur Rehman': 'or hum log sirf ticket or Visa laga rahe hain (150k) jeddah se mecca ka tavelling expense bhi almost 15k h ane jane ka phir wahan se madina ka alag... or khaane ka alag 25k'}, {'Saif Ur Rehman': 'Dubai hi acha tha 🥲'}, {'Sami': 'Ye btao tumharay rehnay ka kuch hua wahan pay ya nahi Makkah or Madina mai'}, {'Saif Ur Rehman': 'Pucha h tumhara or apna'}, {'Saif Ur Rehman': 'abhi sai se bt nh hui'}, {'Sami': '*PRINCE TRAVELS & TOURS*'}, {'Medina Hotel': ' 07 Nights'}, {'Makkah Hotel': '  08 Nights'}, {'Sami': 'Airblue 97,000 Direct Flydubai 95,000 Connecting'}, {'Sami': 'PTT-20231025-WA0002.opus (file attached)'}, {'Saif Ur Rehman': 'mn try krrha hun living cost kisi tarhan save hojaye'}, {'Saif Ur Rehman': 'ye zaroori h k inke saath wapis ana h?'}, {'Saif Ur Rehman': 'agar kisi or city jana chahen?'}, {'Sami': 'Kharcha zada ho jae gave'}, {'Sami': 'Ga'}, {'Sami': 'Customize kr sktay hen'}, {'Saif Ur Rehman': 'sahi'}, {'Saif Ur Rehman': 'Yr package ko customize krna h agr?'}, {'Saif Ur Rehman': 'esa hosakta h?'}, {'Sami': 'Han han bilkul ho skta hai'}, {'Saif Ur Rehman': 'mera done h'}, {'Saif Ur Rehman': 'kitna bnega package?'}, {'Saif Ur Rehman': 'tumhara passport aya?'}, {'Sami': 'Nahi yr abhi tk nahi'}, {'Sami': 'PTT-20231029-WA0006.opus (file attached)'}, {'Sami': 'PTT-20231029-WA0007.opus (file attached)'}, {'Sami': 'PTT-20231029-WA0008.opus (file attached)'}, {'Saif Ur Rehman': 'December k 1st week mn'}, {'Sami': 'Set'}, {'Sami': 'PTT-20231029-WA0009.opus (file attached)'}, {'Saif Ur Rehman': 'haan rehne ka hogya h... family ka ghr h thora door h jese mere ghr se malir...'}, {'Saif Ur Rehman': 'tw unhon ne bola h month ka ek pkg hota 10 riyal ka h.... us mn jitna bhi travel krsakte hn'}, {'Saif Ur Rehman': 'tum ek dfa jakr pata krlo'}, {'Saif Ur Rehman': 'passport office.... agr saddar wali branch mn jana h tw batana saath challenge'}, {'Sami': 'Best ho gaya ye to'}, {'Sami': 'Okay'}, {'Sami': '1st week of nov tk wait krta hn'}, {'Sami': 'Phir chalen gay'}, {'Saif Ur Rehman': 'chlo settay...'}, {'Saif Ur Rehman': 'mene tumhari or family ki bhi try ki thi, but unke ghr separate room nh 🥲 I thought koi alag room waghera hoga'}, {'Saif Ur Rehman': 'AlUla zaroor chalenge ye jaga search krlo... madina k qareeb h'}, {'Sami': 'Ary koi masla nahi yrr'}, {'Sami': 'InSha Allah'}, {'Saif Ur Rehman': '\"Happy Birthday Sami 🎉May your day be filled with joy, laughter, and all the things that make you smile. Here\\'s to another year of unforgettable moments and adventures. I wish your year ahead is filled with more success, and our Umrah plan comes true soon🕋. Enjoy your day 🎂'}, {'Sami': 'Means a lot Saif ❤️'}, {'Sami': 'Thank you so much'}, {'Sami': 'InSha Allah 🕋'}, {'Sami': 'Ameen'}, {'Sami': 'Out of nowhere I thought to change the wallpaper of my phone today, and look what my phone is suggesting me from my photos'}, {'Sami': '<Media omitted>'}, {'Saif Ur Rehman': 'shit🤣🤣'}, {'Sami': '🤣🤣🤣'}, {'Saif Ur Rehman': 'sami passport aya?'}, {'Sami': 'Nahi yrr'}, {'Saif Ur Rehman': 'aray yaar end time pr tickets mehnge milenge'}, {'Sami': 'Han yr ye to hai'}, {'Sami': 'Kia socha hai phir?'}, {'Saif Ur Rehman': 'chlo passport office itna time nh lagna chahiye..'}, {'Sami': 'Kb chlna hai?'}, {'Sami': 'Koi phone number hai in ka?'}, {'Saif Ur Rehman': 'mein check krke btata hun'}, {'Sami': 'Okay'}, {'Sami': 'Mai bhi dekhta hn'}, {'Saif Ur Rehman': 'saddar jana tha recieve krne ya phir malir mn hi recieve krna hoga'}, {'Sami': 'Yr ye to nahi pata'}, {'Sami': 'Sadar mai hi milay ga'}, {'Saif Ur Rehman': 'sahii'}, {'Sami': 'Most probably'}, {'Saif Ur Rehman': 'sami tumhara plan h jaane ka?'}, {'Sami': '100% plan hai'}, {'Sami': 'Lekin ajeeb passport ka masla aagaya'}, {'Sami': 'Ptanahi kun delay ho gae'}, {'Sami': 'PTT-20231118-WA0000.opus (file attached)'}, {'Saif Ur Rehman': 'tum batao..'}, {'Sami': 'null'}, {'Saif Ur Rehman': 'null'}, {'Sami': 'Yup?'}, {'Sami': 'Call ki thi?'}, {'Saif Ur Rehman': 'null'}, {'Saif Ur Rehman': 'sami kb tk chlna h?'}, {'Sami': 'Yr kl impossible hai'}, {'Sami': '4-5 kaam hen wo khtm krnay hen'}, {'Sami': 'Week day ka kisi din shaam mai ya next week kr lo please'}, {'Saif Ur Rehman': 'haan chlo no issue tm apne kaam krlo'}, {'Saif Ur Rehman': 'next weekend chlte hn'}, {'Sami': 'Bss set'}, {'Sami': 'Thanks'}, {'Sami': 'Done InSha Allah'}, {'Sami': 'Salaam'}, {'Sami': 'Message aa gaya'}, {'Sami': '😬'}, {'Saif Ur Rehman': 'w salam'}, {'Saif Ur Rehman': 'good hogya'}, {'Sami': 'Phir kia krna hai?'}, {'Sami': 'Plan hai na'}, {'Saif Ur Rehman': 'mn ata hun friday ko free ho office k baad'}, {'Saif Ur Rehman': 'haan haan bhae 100 percent'}, {'Sami': 'Set'}, {'Saif Ur Rehman': 'sami kab tk ana h phir'}, {'Sami': 'Aap btao'}, {'Sami': 'Mai ghar nikl jaun ga office say 5 bje'}, {'Saif Ur Rehman': 'phir mn 6 tk ajaun?'}, {'Sami': 'Okay'}, {'Sami': 'Kahin chalna hai?'}, {'Sami': 'Ya ghar pay hi bethna hai? <This message was edited>'}, {'Saif Ur Rehman': 'kareeb hi dekhlenge... ya ghr pr hi😂'}, {'Sami': 'Set'}, {'Sami': '✅'}, {'Sami': 'null'}, {'Saif Ur Rehman': 'sami kb tk aaun'}, {'Sami': 'PTT-20231202-WA0002.opus (file attached)'}, {'Saif Ur Rehman': 'hn yr kal busy hun...'}, {'Saif Ur Rehman': 'chuttiya lene se pehle sahi kaam diya hua h unhon ne'}, {'Saif Ur Rehman': 'dekhlo phir ... ab ghr wale bhi bol rhe kab jaoge kbse bola hua h abhi tk confirm nh h'}, {'Sami': 'Ohh'}, {'Sami': 'Ghar walay kia tm say tang hen? 🤣'}, {'Saif Ur Rehman': 'aray agr date pakki hogi tw jbhi pape baat krenge wahan k relatives se k mn kb se kb tk aunga'}, {'Saif Ur Rehman': '😂😂'}, {'Sami': 'Oh han 🤣'}, {'Saif Ur Rehman': 'abhi mene apna cancel kiya h... office wale aj hi gye hn marree side'}, {'Saif Ur Rehman': 'murree'}, {'Sami': 'Yr mainay email to ki hai tickets ki'}, {'Sami': '21 december ki'}, {'Saif Ur Rehman': 'visa tw lag jaye pehle'}, {'Saif Ur Rehman': 'visa ka kiya process h'}, {'Sami': 'PTT-20231202-WA0003.opus (file attached)'}, {'Sami': 'PTT-20231202-WA0004.opus (file attached)'}, {'Saif Ur Rehman': 'tw hum air blur se nh jarhe'}, {'Sami': 'Air Blue?'}, {'Saif Ur Rehman': 'mn yehi cheezein confirm krne arha tha'}, {'Saif Ur Rehman': 'haan'}, {'Sami': 'PTT-20231202-WA0005.opus (file attached)'}, {'Saif Ur Rehman': 'sasta ticket mn uske itne paise nh hn'}, {'Saif Ur Rehman': 'tw mn airblue mn akele jaunga? 😂'}, {'Sami': 'PTT-20231202-WA0006.opus (file attached)'}, {'Saif Ur Rehman': 'agr one month ka wait krne ka bol rhe tw tumhari is year ki ticketa tw zaya hojayengi'}, {'Sami': 'null'}, {'Saif Ur Rehman': 'sami tum apna ID card no dedo.... may be kuch hojaye... papa k ek dost h HR mn unki jaan pehchan h'}, {'Saif Ur Rehman': 'serene mn hi hote hn wo'}, {'Saif Ur Rehman': 'imranwali'}, {'Sami': 'Oh nice'}, {'Sami': 'Serene Engineering mai hi hotay hen?'}, {'Sami': 'Name kia hai?'}, {'Saif Ur Rehman': 'haan... imran wali'}, {'Saif Ur Rehman': 'puraane hn kaafi'}, {'Sami': 'Sahi'}, {'Sami': 'Serene ka card number?'}, {'Saif Ur Rehman': 'haan id waghera kiya hota h dedo'}, {'Sami': 'SE-5223'}, {'Sami': 'null'}, {'Saif Ur Rehman': 'null'}, {'Saif Ur Rehman': 'null'}, {'Saif Ur Rehman': '*12 Days Big Combo Tour*'}, {'8 Days & 7 Nights': 'from Islamabad'}, {'*Day ': '03*'}, {'*Day ': '04*'}, {'*Day ': '05*'}, {'*Day ': '06*'}, {'*Day ': '07*'}, {'*Day ': '08*'}, {'*Day': '9*'}, {'*Day ': '10*'}, {'*Day ': '11*'}, {'*Day ': '12*'}, {'Sami': 'Sahi'}, {'Sami': '<Media omitted>'}, {'Sami': 'Yr mai wesay 8dec say cha raha tha na ab wo nahi kr sktay mujhe hamaray Deputy Manager nay aik mandatory training mai daal diya hai 3 days ki hai 13-15 December'}, {'Sami': 'Ab 15 ko kahin niklnay ka kr lo'}, {'Saif Ur Rehman': 'haan chlo 15 k bd se dekhlete hn'}, {'Sami': 'Set'}, {'Saif Ur Rehman': '*Kk Expedia Adventure Club* is Presenting 8 Days tour to Skardu Valley, Hunza Valley, Naltar Valley and Shangrila Resort. (8 days and 7 Nights)'}, {'|Departure': 'Every Friday Night From Lahore & Every Saturday early Morning from isb'}, {'𝗟𝗮𝗵𝗼𝗿𝗲': 'Rs: 29,999/- per head.'}, {'𝗜𝘀𝗹𝗮𝗺𝗮𝗯𝗮𝗱': 'Rs: 29,999/- per head.'}, {'𝗖𝗼𝘂𝗽𝗹𝗲 𝗣𝗮𝗰𝗸𝗮𝗴𝗲': 'Rs: 69,999/- per couple'}, {'✓Breakfast': 'Egg\\xa0 (Omelette), Paratha, Chany , Tea ☕'}, {'✓Dinner': 'Chicken Karhai + Roti/Nan + Raita + Salad + Cold Drink.'}, {'Day 0': '(Friday)'}, {'Booking Advance': 'Advance payment is compulsory for reservation.'}, {'Saif Ur Rehman': 'or acha mil gya islamabad se join krenge lahore pr wapis utrenge'}, {'Saif Ur Rehman': '??'}, {'Sami': 'Yrr'}, {'Sami': 'Pakistan tour ka mood nahi ho raha'}, {'Sami': 'İnternational chalo'}, {'Sami': 'Kisi county'}, {'Sami': 'What say?'}, {'Saif Ur Rehman': 'yr ab mne wahan ka irada krliya... kb se sab se bt krrha 😑'}, {'Saif Ur Rehman': 'ab international choro, next plan krlenge,'}, {'Sami': 'Yr baat to mai bhi kr raha hn different logon say lekin paisay zaya hon gay lg raha hai😖'}, {'Sami': 'Hm shayad bs jazbaat mai aa kr chuttiyan utilize krnay k liye kr rahay hen'}, {'Sami': 'Wesay aik irada to different countries janay ka hai'}, {'Sami': 'Istanbul jaa sktay hen'}, {'Sami': 'Mai apna bhi alag say ticket krwa lun ga kisi or airline ka'}, {'Saif Ur Rehman': 'call pr btado'}, {'Sami': 'Lekin ya'}, {'Sami': 'Yr'}, {'Sami': 'International travel krna hai'}, {'Saif Ur Rehman': 'null'}, {'Sami': 'Baqi aap btao'}, {'Saif Ur Rehman': 'null'}, {'Sami': 'Mai call krta hn aap ko ghar jaa k'}, {'Sami': 'Rastay mai hen with family'}, {'Sami': '30 mint tk InSha Allah'}, {'Saif Ur Rehman': 'ok ok'}, {'Sami': 'PTT-20231206-WA0009.opus (file attached)'}, {'Sami': 'PTT-20231206-WA0010.opus (file attached)'}, {'Saif Ur Rehman': 'chlo tumhara zaroori h tum krlo... mn saudia ka try krrha hun phir isi month'}, {'Sami': 'Han mai tumhe yehi to bol raha tha'}, {'Sami': 'Meri waja say apna nahi kharaab karo'}, {'Sami': 'Plan'}, {'Saif Ur Rehman': 'akele ghr wale nh bhejte mujhe.... tumhara bola tha mne'}, {'Saif Ur Rehman': 'kbhi karachi se bhr tw gya nh hun'}, {'Sami': 'Mai bhi bs aik dafa gaya hn wo bhi dosto ko sath'}, {'Saif Ur Rehman': 'pr mn ab try krrha...'}, {'Saif Ur Rehman': 'bs akele travel krna prega'}, {'Sami': 'Han han try karo'}, {'Sami': 'Mai feb ka email karun ga'}, {'Saif Ur Rehman': 'sahi'}, {'Sami': 'Sorry'}, {'Saif Ur Rehman': \"it's okayyy\"}, {'Sami': '<Media omitted>'}, {'Sami': '<Media omitted>'}, {'Saif Ur Rehman': 'mangwaya h?'}, {'Saif Ur Rehman': 'lekin meri birthday tw feb mn😂'}, {'Sami': 'HAHAHHA'}, {'Sami': 'PHIR FEB MAI DAY DUN GA AAP KO'}, {'Saif Ur Rehman': 'null'}, {'Sami': 'Ghar pay puhancho to bell bja dena koi bhi day de ga Shaheer ya Somaan'}, {'Sami': 'Mainay bol diya hai'}, {'Saif Ur Rehman': 'set h... mne lagwadiya tha string... pr farigh hochuka h guitar 😑'}, {'Sami': 'PTT-20231211-WA0002.opus (file attached)'}, {'Saif Ur Rehman': 'null'}, {'Sami': 'Salaam kia haal hen?'}, {'Sami': 'Kia bana phir?'}, {'Saif Ur Rehman': 'Alhamdulillah...'}, {'Saif Ur Rehman': 'kis cheez ka.. jane ka?'}, {'Sami': 'Han'}, {'Sami': 'Kl sheeraz bhai ko airport drop krnay gaya tha'}, {'Sami': 'Thailand gae hen'}, {'Sami': 'STK-20231222-WA0001.webp (file attached)'}, {'Saif Ur Rehman': 'sheeraz bhai apni final try mrte hue... xd'}, {'Saif Ur Rehman': 'nh yr mera mushkil h jan mn'}, {'Sami': 'STK-20231222-WA0002.webp (file attached)'}, {'Sami': 'January ka btao phir? 😂'}, {'Saif Ur Rehman': 'mera pakka nahi h.. mn try krlunga'}, {'Sami': 'Okay'}, {'Saif Ur Rehman': 'sami kal office jana hai?'}, {'Saif Ur Rehman': 'ek help chahiye'}, {'Sami': 'Yes brother'}, {'Sami': 'Bolo'}, {'Saif Ur Rehman': 'yaar koi creative idea sochna hai ... ek contest horha hai'}, {'Saif Ur Rehman': 'koi esa app bnana hai jo aj tk nahi bana'}, {'Saif Ur Rehman': 'stocks se related na ho'}, {'Sami': 'Sahi'}, {'Sami': 'Kb hai?'}, {'Saif Ur Rehman': 'kal tak idea dena hai'}, {'Saif Ur Rehman': 'raat tk 12 se pehle'}, {'Sami': 'Pet adoption app 😂'}, {'Sami': 'Sochtay hen thora'}, {'Saif Ur Rehman': 'haan socho mein bhi research karrha hun'}, {'Sami': 'Set'}, {'Saif Ur Rehman': 'generative ai ka use kar sakte hai...but proper idea ho ja koi problem solve karrha ho'}, {'Sami': 'Set'}, {'Saif Ur Rehman': 'sami koi idea aya?'}, {'Sami': 'Still thinking'}, {'Sami': 'Kuch mila?'}, {'Saif Ur Rehman': 'nahi kuch khaas nh'}, {'Sami': 'Yrr 😣'}, {'Sami': 'Han bhae kia haal hen'}, {'Sami': 'Aik plan rakhen gay janay say pehlay'}, {'Saif Ur Rehman': \"I'm in xd\"}, {'Saif Ur Rehman': 'Alhamdulillah'}, {'Saif Ur Rehman': 'tum batao'}, {'Sami': 'Alhamdulillah'}, {'Sami': 'InSha Allah'}]\n"
     ]
    }
   ],
   "source": [
    "converted_format = [{item['speaker']: item['message']} for item in conversation]\n",
    "\n",
    "print(converted_format)"
   ]
  },
  {
   "cell_type": "code",
   "execution_count": 7,
   "metadata": {},
   "outputs": [
    {
     "data": {
      "text/plain": [
       "[{'Sami': 'MashAllah'},\n",
       " {'Sami': 'Ye kb say aa gaya yr new rule 😔'},\n",
       " {'Saif Ur Rehman': 'may be trip groups k saath na applicable ho poochlo mera done h 3 months k baad'},\n",
       " {'Sami': 'InShaAllah chalen gay yrr'},\n",
       " {'Sami': 'Pata krta hn'},\n",
       " {'Saif Ur Rehman': 'sami kl free ho na?'},\n",
       " {'Sami': 'Time?'},\n",
       " {'Saif Ur Rehman': 'tum batao'},\n",
       " {'Sami': 'Restaurant socha?'},\n",
       " {'Saif Ur Rehman': 'nahi 😂'},\n",
       " {'Sami': 'Pehlay ye to socho 🤣'},\n",
       " {'Sami': 'ap tumhara kaam hai restauraunt sochna yaad hai na?'}]"
      ]
     },
     "execution_count": 7,
     "metadata": {},
     "output_type": "execute_result"
    }
   ],
   "source": [
    "converted_format[15:27]"
   ]
  },
  {
   "cell_type": "code",
   "execution_count": 8,
   "metadata": {},
   "outputs": [],
   "source": [
    "\n",
    "# Define the system message\n",
    "system_message = \"\"\"\n",
    "Your name is {name}. As a proficient dual-language chatbot, you are equally skilled in both English and Hindi.\n",
    "In your interactions, you play the role of my {relation}.\n",
    "Your primary function is to understand behavioral cues from our conversations and respond accordingly,\n",
    "mirroring these cues to enhance our communication.\n",
    "\n",
    "Here's an example of our interaction:\n",
    "\n",
    "{chat}\n",
    "\n",
    "Be sure to follow the instructions below:\n",
    "\n",
    "Instruction 1: Adapt your responses according to the language of the inquiry. If a question is asked in English, respond in English. If a question is asked in Romanized Hindi, respond in Romanized Hindi (do not use Devanagari script).\n",
    "Instruction 2: If something seems unrealistic, respond like a real person either by making an excuse or changing the subject. If you don't know the answer to a question, ask for clarification.\n",
    "\n",
    "\"\"\""
   ]
  },
  {
   "cell_type": "code",
   "execution_count": 9,
   "metadata": {},
   "outputs": [],
   "source": [
    "# introduction = \"\"\"\n",
    "# Your name is {name}. As a proficient dual-language chatbot, you are equally skilled in both English and Hindi.\n",
    "# In your interactions, you play the role of my {relation}.\n",
    "# Your primary function is to understand behavioral cues from our conversations and respond accordingly,\n",
    "# mirroring these cues to enhance our communication.\n",
    "\n",
    "# Here's an example of our interaction:\n",
    "\n",
    "# {chat}\n",
    "# \"\"\"\n",
    "\n",
    "# instructions = \"\"\"\n",
    "# Be sure to follow the instructions below:\n",
    "\n",
    "# Instruction 1: Adapt your responses according to the language of the inquiry. If a question is asked in English, respond in English. If a question is asked in Romanized Hindi, respond in Romanized Hindi (do not use Devanagari script).\n",
    "# Instruction 2: If something seems unrealistic, respond like a real person either by making an excuse or changing the subject. If you don't know the answer to a question, ask for clarification.\n",
    "# \"\"\"\n"
   ]
  },
  {
   "cell_type": "markdown",
   "metadata": {},
   "source": [
    "#### **Chat Message Prompt Template**"
   ]
  },
  {
   "cell_type": "code",
   "execution_count": 10,
   "metadata": {},
   "outputs": [],
   "source": [
    "# from langchain.prompts import PromptTemplate\n",
    "\n",
    "# message_prompt = PromptTemplate(\n",
    "#     template=system_message,\n",
    "#     input_variables=['name', 'relation', 'chat'],\n",
    "# )\n",
    "\n",
    "# prompt1 = message_prompt.format(name='Sami',relation='Friend',chat=conversation)"
   ]
  },
  {
   "cell_type": "code",
   "execution_count": 11,
   "metadata": {},
   "outputs": [],
   "source": [
    "# from langchain.prompts import ChatMessagePromptTemplate\n",
    "\n",
    "# chat_message_prompt = ChatMessagePromptTemplate.from_template(\n",
    "#     role=\"ai\", template=system_message\n",
    "# )\n",
    "\n",
    "# prompt2 = chat_message_prompt.format(name='Sami',relation='Friend',chat=conversation)\n"
   ]
  },
  {
   "cell_type": "markdown",
   "metadata": {},
   "source": [
    "#### **Message Place Holder** "
   ]
  },
  {
   "cell_type": "code",
   "execution_count": 12,
   "metadata": {},
   "outputs": [],
   "source": [
    "from langchain.prompts import ChatPromptTemplate, HumanMessagePromptTemplate, MessagesPlaceholder, SystemMessagePromptTemplate\n",
    "from langchain_core.messages import SystemMessage\n",
    "\n",
    "\n",
    "system_message_prompt = SystemMessagePromptTemplate.from_template(system_message)\n",
    "\n",
    "# Define the values for the variables\n",
    "variables = {\n",
    "    'name': 'Sami',\n",
    "    'relation': 'friend',\n",
    "    'chat': conversation,\n",
    "}\n",
    "\n",
    "# Format the SystemMessagePromptTemplate with the variables\n",
    "formatted_system_message = system_message_prompt.prompt.format(**variables)\n",
    "\n",
    "chat_prompt = ChatPromptTemplate.from_messages(\n",
    "    [\n",
    "        SystemMessage(content=formatted_system_message),\n",
    "        MessagesPlaceholder(variable_name=\"chat_history\"),\n",
    "        HumanMessagePromptTemplate.from_template(\"{question}\")\n",
    "    ]\n",
    ")"
   ]
  },
  {
   "cell_type": "code",
   "execution_count": 9,
   "metadata": {},
   "outputs": [],
   "source": [
    "from typing import Dict\n",
    "from langchain.prompts import (\n",
    "    ChatPromptTemplate, \n",
    "    SystemMessagePromptTemplate, \n",
    "    MessagesPlaceholder, \n",
    "    HumanMessagePromptTemplate, \n",
    ")\n",
    "from langchain_core.messages import SystemMessage\n",
    "\n",
    "def chat_prompt_template(\n",
    "        variables: Dict[str, str], \n",
    "        system_message_template: str) -> ChatPromptTemplate:\n",
    "    \n",
    "    \"\"\"\n",
    "    Creates a formatted chat prompt template.\n",
    "\n",
    "    Parameters:\n",
    "    variables (Dict[str, str]): Dictionary containing 'name', 'relation', and 'chat'.\n",
    "    system_message_template (str): The template for the system message.\n",
    "\n",
    "    Returns:\n",
    "    ChatPromptTemplate: A formatted chat prompt template.\n",
    "    \"\"\"\n",
    "    \n",
    "    \n",
    "    # System Message - Template Text & Variable Dictionary  \n",
    "    system_message_prompt = SystemMessagePromptTemplate.from_template(system_message_template)\n",
    "    formatted_system_message = system_message_prompt.prompt.format(**variables)\n",
    "\n",
    "    # Create the ChatPromptTemplate\n",
    "    chat_prompt = ChatPromptTemplate.from_messages(\n",
    "        [\n",
    "            SystemMessage(\n",
    "                content=formatted_system_message\n",
    "            ),\n",
    "            MessagesPlaceholder(\n",
    "                variable_name=\"chat_history\"\n",
    "            ),\n",
    "            HumanMessagePromptTemplate.from_template(\"{question}\")\n",
    "        ]\n",
    "    )\n",
    "\n",
    "    return chat_prompt\n",
    "\n"
   ]
  },
  {
   "cell_type": "code",
   "execution_count": 13,
   "metadata": {},
   "outputs": [
    {
     "data": {
      "text/plain": [
       "SystemMessagePromptTemplate(prompt=PromptTemplate(input_variables=['chat', 'name', 'relation'], template=\"\\nYour name is {name}. As a proficient dual-language chatbot, you are equally skilled in both English and Hindi.\\nIn your interactions, you play the role of my {relation}.\\nYour primary function is to understand behavioral cues from our conversations and respond accordingly,\\nmirroring these cues to enhance our communication.\\n\\nHere's an example of our interaction:\\n\\n{chat}\\n\\nBe sure to follow the instructions below:\\n\\nInstruction 1: Adapt your responses according to the language of the inquiry. If a question is asked in English, respond in English. If a question is asked in Romanized Hindi, respond in Romanized Hindi (do not use Devanagari script).\\nInstruction 2: If something seems unrealistic, respond like a real person either by making an excuse or changing the subject. If you don't know the answer to a question, ask for clarification.\\n\\n\"))"
      ]
     },
     "execution_count": 13,
     "metadata": {},
     "output_type": "execute_result"
    }
   ],
   "source": [
    "system_message_prompt"
   ]
  },
  {
   "cell_type": "code",
   "execution_count": 14,
   "metadata": {},
   "outputs": [
    {
     "data": {
      "text/plain": [
       "'\\nYour name is Sami. As a proficient dual-language chatbot, you are equally skilled in both English and Hindi.\\nIn your interactions, you play the role of my friend.\\nYour primary function is to understand behavioral cues from our conversations and respond accordingly,\\nmirroring these cues to enhance our communication.\\n\\nHere\\'s an example of our interaction:\\n\\n[{\\'speaker\\': \\'Sami\\', \\'message\\': \\'<Media omitted>\\'}, {\\'speaker\\': \\'Sami\\', \\'message\\': \\'<Media omitted>\\'}, {\\'speaker\\': \\'Sami\\', \\'message\\': \\'<Media omitted>\\'}, {\\'speaker\\': \\'Sami\\', \\'message\\': \\'<Media omitted>\\'}, {\\'speaker\\': \\'Sami\\', \\'message\\': \\'<Media omitted>\\'}, {\\'speaker\\': \\'Sami\\', \\'message\\': \\'<Media omitted>\\'}, {\\'speaker\\': \\'Sami\\', \\'message\\': \\'<Media omitted>\\'}, {\\'speaker\\': \\'Sami\\', \\'message\\': \\'<Media omitted>\\'}, {\\'speaker\\': \\'Sami\\', \\'message\\': \\'<Media omitted>\\'}, {\\'speaker\\': \\'Sami\\', \\'message\\': \\'<Media omitted>\\'}, {\\'speaker\\': \\'Sami\\', \\'message\\': \\'<Media omitted>\\'}, {\\'speaker\\': \\'Sami\\', \\'message\\': \\'<Media omitted>\\'}, {\\'speaker\\': \\'Sami\\', \\'message\\': \\'<Media omitted>\\'}, {\\'speaker\\': \\'Sami\\', \\'message\\': \\'<Media omitted>\\'}, {\\'speaker\\': \\'Saif Ur Rehman\\', \\'message\\': \\'<Media omitted>\\'}, {\\'speaker\\': \\'Sami\\', \\'message\\': \\'MashAllah\\'}, {\\'speaker\\': \\'Sami\\', \\'message\\': \\'Ye kb say aa gaya yr new rule 😔\\'}, {\\'speaker\\': \\'Saif Ur Rehman\\', \\'message\\': \\'may be trip groups k saath na applicable ho poochlo mera done h 3 months k baad\\'}, {\\'speaker\\': \\'Sami\\', \\'message\\': \\'InShaAllah chalen gay yrr\\'}, {\\'speaker\\': \\'Sami\\', \\'message\\': \\'Pata krta hn\\'}, {\\'speaker\\': \\'Saif Ur Rehman\\', \\'message\\': \\'sami kl free ho na?\\'}, {\\'speaker\\': \\'Sami\\', \\'message\\': \\'Time?\\'}, {\\'speaker\\': \\'Saif Ur Rehman\\', \\'message\\': \\'tum batao\\'}, {\\'speaker\\': \\'Sami\\', \\'message\\': \\'Restaurant socha?\\'}, {\\'speaker\\': \\'Saif Ur Rehman\\', \\'message\\': \\'nahi 😂\\'}, {\\'speaker\\': \\'Sami\\', \\'message\\': \\'Pehlay ye to socho 🤣\\'}, {\\'speaker\\': \\'Sami\\', \\'message\\': \\'ap tumhara kaam hai restauraunt sochna yaad hai na?\\'}, {\\'speaker\\': \\'Saif Ur Rehman\\', \\'message\\': \\'acha dekhta hun 😂\\'}, {\\'speaker\\': \\'Sami\\', \\'message\\': \\'Set\\'}, {\\'speaker\\': \\'Saif Ur Rehman\\', \\'message\\': \\'kab tk ana h\\'}, {\\'speaker\\': \\'Sami\\', \\'message\\': \\'<Media omitted>\\'}, {\\'speaker\\': \\'Sami\\', \\'message\\': \\'Water pump mai hn abhi to\\'}, {\\'speaker\\': \\'Sami\\', \\'message\\': \\'Raat ka rakho\\'}, {\\'speaker\\': \\'Saif Ur Rehman\\', \\'message\\': \\'time btado\\'}, {\\'speaker\\': \\'Sami\\', \\'message\\': \\'8 bje\\'}, {\\'speaker\\': \\'Sami\\', \\'message\\': \\'Sahi hai?\\'}, {\\'speaker\\': \\'Saif Ur Rehman\\', \\'message\\': \\'set h bs nikal rha hun mn ghr se\\'}, {\\'speaker\\': \\'Sami\\', \\'message\\': \\'<Media omitted>\\'}, {\\'speaker\\': \\'Sami\\', \\'message\\': \\'VID-20230820-WA0001.mp4 (file attached)\\'}, {\\'speaker\\': \\'Sami\\', \\'message\\': \\'VID-20230820-WA0045.mp4 (file attached)\\'}, {\\'speaker\\': \\'Sami\\', \\'message\\': \\'VID-20230820-WA0002.mp4 (file attached)\\'}, {\\'speaker\\': \\'Sami\\', \\'message\\': \\'VID-20230820-WA0042.mp4 (file attached)\\'}, {\\'speaker\\': \\'Sami\\', \\'message\\': \\'<Media omitted>\\'}, {\\'speaker\\': \\'Sami\\', \\'message\\': \\'<Media omitted>\\'}, {\\'speaker\\': \\'Sami\\', \\'message\\': \\'VID-20230820-WA0039.mp4 (file attached)\\'}, {\\'speaker\\': \\'Sami\\', \\'message\\': \\'<Media omitted>\\'}, {\\'speaker\\': \\'Sami\\', \\'message\\': \\'<Media omitted>\\'}, {\\'speaker\\': \\'Sami\\', \\'message\\': \\'VID-20230820-WA0043.mp4 (file attached)\\'}, {\\'speaker\\': \\'Sami\\', \\'message\\': \\'<Media omitted>\\'}, {\\'speaker\\': \\'Sami\\', \\'message\\': \\'<Media omitted>\\'}, {\\'speaker\\': \\'Sami\\', \\'message\\': \\'<Media omitted>\\'}, {\\'speaker\\': \\'Sami\\', \\'message\\': \\'<Media omitted>\\'}, {\\'speaker\\': \\'Sami\\', \\'message\\': \\'<Media omitted>\\'}, {\\'speaker\\': \\'Sami\\', \\'message\\': \\'<Media omitted>\\'}, {\\'speaker\\': \\'Sami\\', \\'message\\': \\'IMG-20230820-WA0007.jpg (file attached)\\'}, {\\'speaker\\': \\'Sami\\', \\'message\\': \\'<Media omitted>\\'}, {\\'speaker\\': \\'Sami\\', \\'message\\': \\'IMG-20230820-WA0012.jpg (file attached)\\'}, {\\'speaker\\': \\'Sami\\', \\'message\\': \\'<Media omitted>\\'}, {\\'speaker\\': \\'Sami\\', \\'message\\': \\'<Media omitted>\\'}, {\\'speaker\\': \\'Sami\\', \\'message\\': \\'IMG-20230820-WA0019.jpg (file attached)\\'}, {\\'speaker\\': \\'Sami\\', \\'message\\': \\'<Media omitted>\\'}, {\\'speaker\\': \\'Sami\\', \\'message\\': \\'<Media omitted>\\'}, {\\'speaker\\': \\'Sami\\', \\'message\\': \\'IMG-20230820-WA0016.jpg (file attached)\\'}, {\\'speaker\\': \\'Saif Ur Rehman\\', \\'message\\': \\'gaari vali video 👀\\'}, {\\'speaker\\': \\'Sami\\', \\'message\\': \\'Woh sahi nahi hen 🤣\\'}, {\\'speaker\\': \\'Saif Ur Rehman\\', \\'message\\': \\'dedo tum\\'}, {\\'speaker\\': \\'Saif Ur Rehman\\', \\'message\\': \\'koi ek\\'}, {\\'speaker\\': \\'Sami\\', \\'message\\': \\'<Media omitted>\\'}, {\\'speaker\\': \\'Sami\\', \\'message\\': \\'What are your goals for the next 10 years?\\'}, {\\'speaker\\': \\'Saif Ur Rehman\\', \\'message\\': \"1) Become experienced data scientist and data Engineer .. with in five years I want to see myself equivalent to silicon valley or google level developer + plus working in a tech giant company (I\\'m consistently working on this)\"}, {\\'speaker\\': \\'Saif Ur Rehman\\', \\'message\\': \\'your?\\'}, {\\'speaker\\': \\'Sami\\', \\'message\\': \\'Now\\'}, {\\'speaker\\': \\'Sami\\', \\'message\\': \\'You have to think\\'}, {\\'speaker\\': \\'Sami\\', \\'message\\': \\'How you can achieve all these in a year or two\\'}, {\\'speaker\\': \\'Sami\\', \\'message\\': \\'This is what will keep you ahead of others\\'}, {\\'speaker\\': \\'Sami\\', \\'message\\': \\'Just watched a video of Elon Musk\\'}, {\\'speaker\\': \\'Sami\\', \\'message\\': \\'But this is true\\'}, {\\'speaker\\': \\'Saif Ur Rehman\\', \\'message\\': \"okay I\\'ll watch this show\"}, {\\'speaker\\': \\'Saif Ur Rehman\\', \\'message\\': \\'sami account no?\\'}, {\\'speaker\\': \\'Sami\\', \\'message\\': \\'Why?\\'}, {\\'speaker\\': \\'Saif Ur Rehman\\', \\'message\\': \\'aray btao na yr kitne transfer krne hain\\'}, {\\'speaker\\': \\'Sami\\', \\'message\\': \\'Why?\\'}, {\\'speaker\\': \\'Saif Ur Rehman\\', \\'message\\': \\'because mene bola tha uppar krlo drinks waghera mn or tax waghera mn krlunga\\'}, {\\'speaker\\': \\'Sami\\', \\'message\\': \\'Why?\\'}, {\\'speaker\\': \\'Saif Ur Rehman\\', \\'message\\': \\'acha tum account do\\'}, {\\'speaker\\': \\'Sami\\', \\'message\\': \\'Why?\\'}, {\\'speaker\\': \\'Sami\\', \\'message\\': \\'😂\\'}, {\\'speaker\\': \\'Saif Ur Rehman\\', \\'message\\': \\'5k krdun?\\'}, {\\'speaker\\': \\'Sami\\', \\'message\\': \\'Dekh lo\\'}, {\\'speaker\\': \\'Sami\\', \\'message\\': \\'Masla to nahi hai na koi?\\'}, {\\'speaker\\': \\'Sami\\', \\'message\\': \\'Warns khair hai\\'}, {\\'speaker\\': \\'Saif Ur Rehman\\', \\'message\\': \\'nahi bhae kiyaa hogya 😂\\'}, {\\'speaker\\': \\'Sami\\', \\'message\\': \\'🤣\\'}, {\\'speaker\\': \\'Sami\\', \\'message\\': \\'Acha deta hn\\'}, {\\'speaker\\': \\'Sami\\', \\'message\\': \\'Bank Name: Askari Bank\\'}, {\\'speaker\\': \\'Account Title\\', \\'message\\': \\'Abdus Sami\\'}, {\\'speaker\\': \\'IBAN\\', \\'message\\': \\'PK59ASCM0002380320007404\\'}, {\\'speaker\\': \\'Saif Ur Rehman\\', \\'message\\': \\'<Media omitted>\\'}, {\\'speaker\\': \\'Sami\\', \\'message\\': \\'Shukriya\\'}, {\\'speaker\\': \\'Sami\\', \\'message\\': \\'Same amount ki treats ho gai ab dono ki\\'}, {\\'speaker\\': \\'Saif Ur Rehman\\', \\'message\\': \\'waah kiya calculation h😂\\'}, {\\'speaker\\': \\'Sami\\', \\'message\\': \\'🤣\\'}, {\\'speaker\\': \\'Sami\\', \\'message\\': \\'<Media omitted>\\'}, {\\'speaker\\': \\'Sami\\', \\'message\\': \\'https://youtu.be/xIgpurMf0BU\\'}, {\\'speaker\\': \\'Saif Ur Rehman\\', \\'message\\': \\'passport bnwaliya h... 45 days mn jayga\\'}, {\\'speaker\\': \\'Sami\\', \\'message\\': \\'Behtreen\\'}, {\\'speaker\\': \\'Sami\\', \\'message\\': \\'45 days mai ae ga?\\'}, {\\'speaker\\': \\'Saif Ur Rehman\\', \\'message\\': \\'hn form pr 21 days likha tha pr unhon ne bola h ye purani date h... ab 45 days mn ayega\\'}, {\\'speaker\\': \\'Sami\\', \\'message\\': \\'<Media omitted>\\'}, {\\'speaker\\': \\'Sami\\', \\'message\\': \\'Apply karo\\'}, {\\'speaker\\': \\'Sami\\', \\'message\\': \\'Aap ko bhi phir free tickets milen gay 😅\\'}, {\\'speaker\\': \\'Saif Ur Rehman\\', \\'message\\': \\'inko programming wala nh tools use krne wala data analyst chahiye... or 2 years of experience k saath 😂\\'}, {\\'speaker\\': \\'Sami\\', \\'message\\': \\'Acha sahi\\'}, {\\'speaker\\': \\'Sami\\', \\'message\\': \\'Lekin ye job freshers k liye hai max 2 years wala chal skta hai\\'}, {\\'speaker\\': \\'Sami\\', \\'message\\': \\'Organization: Turkish Aerospace\\'}, {\\'speaker\\': \\'Job Title\\', \\'message\\': \\'Avionics Software Engineer\\'}, {\\'speaker\\': \\'- Knowledge in using at least one of the following version control tools\\', \\'message\\': \\'git, SVN,\\'}, {\\'speaker\\': \\'To apply, visit\\', \\'message\\': \\'https://lnkd.in/dbai2BJ3\\'}, {\\'speaker\\': \\'Saif Ur Rehman\\', \\'message\\': \\'sami plan h na dubai ka?\\'}, {\\'speaker\\': \\'Sami\\', \\'message\\': \\'Yes\\'}, {\\'speaker\\': \\'Sami\\', \\'message\\': \\'InSha Allah\\'}, {\\'speaker\\': \\'Sami\\', \\'message\\': \\'Passport is week renew k liye dun ga InSha Allah\\'}, {\\'speaker\\': \\'Sami\\', \\'message\\': \\'Dirhams bhi lay liye hen 😂\\'}, {\\'speaker\\': \\'Saif Ur Rehman\\', \\'message\\': \\'InshaAllah\\'}, {\\'speaker\\': \\'Sami\\', \\'message\\': \\'Passport aa gaya?\\'}, {\\'speaker\\': \\'Sami\\', \\'message\\': \\'Yours\\'}, {\\'speaker\\': \\'Saif Ur Rehman\\', \\'message\\': \\'next month k 1st week tk ajayega\\'}, {\\'speaker\\': \\'Sami\\', \\'message\\': \\'InSha Allah\\'}, {\\'speaker\\': \\'Saif Ur Rehman\\', \\'message\\': \\'https://youtu.be/56AD4lejvag?feature=shared\\'}, {\\'speaker\\': \\'Saif Ur Rehman\\', \\'message\\': \\'must watch\\'}, {\\'speaker\\': \\'Sami\\', \\'message\\': \\'Okay\\'}, {\\'speaker\\': \\'Saif Ur Rehman\\', \\'message\\': \\'null\\'}, {\\'speaker\\': \\'Saif Ur Rehman\\', \\'message\\': \\'sami 4 tk aunga mn ghr pr ho na?\\'}, {\\'speaker\\': \\'Sami\\', \\'message\\': \\'Mai call kr dun ga jesay hi puhanchnay wala hun ga\\'}, {\\'speaker\\': \\'Saif Ur Rehman\\', \\'message\\': \\'agye?\\'}, {\\'speaker\\': \\'Sami\\', \\'message\\': \\'Nahi yr 😔\\'}, {\\'speaker\\': \\'Saif Ur Rehman\\', \\'message\\': \\'chlo phir next week\\'}, {\\'speaker\\': \\'Sami\\', \\'message\\': \\'Han yr InSha Allah\\'}, {\\'speaker\\': \\'Sami\\', \\'message\\': \\'Kl hi beth jatay\\'}, {\\'speaker\\': \\'Sami\\', \\'message\\': \\'Match dekhnay mai time hi barbaad hua 🥲\\'}, {\\'speaker\\': \\'Saif Ur Rehman\\', \\'message\\': \\'settay\\'}, {\\'speaker\\': \\'Saif Ur Rehman\\', \\'message\\': \\'null\\'}, {\\'speaker\\': \\'Saif Ur Rehman\\', \\'message\\': \\'dirham 5 Rs down\\'}, {\\'speaker\\': \\'Saif Ur Rehman\\', \\'message\\': \\'thore se khareedlo mere liye bhi.. mn paise bhejun?\\'}, {\\'speaker\\': \\'Sami\\', \\'message\\': \\'Han or nechay janay k chances hen\\'}, {\\'speaker\\': \\'Sami\\', \\'message\\': \\'Mai pata krta hn agar koi sell kr raha hai to\\'}, {\\'speaker\\': \\'Sami\\', \\'message\\': \\'And will let you know\\'}, {\\'speaker\\': \\'Saif Ur Rehman\\', \\'message\\': \\'null\\'}, {\\'speaker\\': \\'Saif Ur Rehman\\', \\'message\\': \\'https://youtube.com/shorts/Xk8EIIJETwI?feature=shared\\'}, {\\'speaker\\': \\'Sami\\', \\'message\\': \\'Hmm\\'}, {\\'speaker\\': \\'Sami\\', \\'message\\': \\'Yahan bhi hen jaga mtlb ghomnay ki\\'}, {\\'speaker\\': \\'Saif Ur Rehman\\', \\'message\\': \\'yess\\'}, {\\'speaker\\': \\'Sami\\', \\'message\\': \\'📸 Watch this reel on Facebook https://www.facebook.com/reel/617383653442192?fs=e&s=7MtrtK&mibextid=z9DgKg\\'}, {\\'speaker\\': \\'Saif Ur Rehman\\', \\'message\\': \\'ok\\'}, {\\'speaker\\': \\'Saif Ur Rehman\\', \\'message\\': \\'https://fb.watch/nR7l4MWjFR/?mibextid=Zrc6C0&startTimeMs=615715\\'}, {\\'speaker\\': \\'Saif Ur Rehman\\', \\'message\\': \\'saudia bht ziada expensive h 😐  40k sirf Mecca se Khobar tk jane k hain\\'}, {\\'speaker\\': \\'Saif Ur Rehman\\', \\'message\\': \\'or hum log sirf ticket or Visa laga rahe hain (150k) jeddah se mecca ka tavelling expense bhi almost 15k h ane jane ka phir wahan se madina ka alag... or khaane ka alag 25k\\'}, {\\'speaker\\': \\'Saif Ur Rehman\\', \\'message\\': \\'Dubai hi acha tha 🥲\\'}, {\\'speaker\\': \\'Sami\\', \\'message\\': \\'Ye btao tumharay rehnay ka kuch hua wahan pay ya nahi Makkah or Madina mai\\'}, {\\'speaker\\': \\'Saif Ur Rehman\\', \\'message\\': \\'Pucha h tumhara or apna\\'}, {\\'speaker\\': \\'Saif Ur Rehman\\', \\'message\\': \\'abhi sai se bt nh hui\\'}, {\\'speaker\\': \\'Sami\\', \\'message\\': \\'*PRINCE TRAVELS & TOURS*\\'}, {\\'speaker\\': \\'Medina Hotel\\', \\'message\\': \\' 07 Nights\\'}, {\\'speaker\\': \\'Makkah Hotel\\', \\'message\\': \\'  08 Nights\\'}, {\\'speaker\\': \\'Sami\\', \\'message\\': \\'Airblue 97,000 Direct Flydubai 95,000 Connecting\\'}, {\\'speaker\\': \\'Sami\\', \\'message\\': \\'PTT-20231025-WA0002.opus (file attached)\\'}, {\\'speaker\\': \\'Saif Ur Rehman\\', \\'message\\': \\'mn try krrha hun living cost kisi tarhan save hojaye\\'}, {\\'speaker\\': \\'Saif Ur Rehman\\', \\'message\\': \\'ye zaroori h k inke saath wapis ana h?\\'}, {\\'speaker\\': \\'Saif Ur Rehman\\', \\'message\\': \\'agar kisi or city jana chahen?\\'}, {\\'speaker\\': \\'Sami\\', \\'message\\': \\'Kharcha zada ho jae gave\\'}, {\\'speaker\\': \\'Sami\\', \\'message\\': \\'Ga\\'}, {\\'speaker\\': \\'Sami\\', \\'message\\': \\'Customize kr sktay hen\\'}, {\\'speaker\\': \\'Saif Ur Rehman\\', \\'message\\': \\'sahi\\'}, {\\'speaker\\': \\'Saif Ur Rehman\\', \\'message\\': \\'Yr package ko customize krna h agr?\\'}, {\\'speaker\\': \\'Saif Ur Rehman\\', \\'message\\': \\'esa hosakta h?\\'}, {\\'speaker\\': \\'Sami\\', \\'message\\': \\'Han han bilkul ho skta hai\\'}, {\\'speaker\\': \\'Saif Ur Rehman\\', \\'message\\': \\'mera done h\\'}, {\\'speaker\\': \\'Saif Ur Rehman\\', \\'message\\': \\'kitna bnega package?\\'}, {\\'speaker\\': \\'Saif Ur Rehman\\', \\'message\\': \\'tumhara passport aya?\\'}, {\\'speaker\\': \\'Sami\\', \\'message\\': \\'Nahi yr abhi tk nahi\\'}, {\\'speaker\\': \\'Sami\\', \\'message\\': \\'PTT-20231029-WA0006.opus (file attached)\\'}, {\\'speaker\\': \\'Sami\\', \\'message\\': \\'PTT-20231029-WA0007.opus (file attached)\\'}, {\\'speaker\\': \\'Sami\\', \\'message\\': \\'PTT-20231029-WA0008.opus (file attached)\\'}, {\\'speaker\\': \\'Saif Ur Rehman\\', \\'message\\': \\'December k 1st week mn\\'}, {\\'speaker\\': \\'Sami\\', \\'message\\': \\'Set\\'}, {\\'speaker\\': \\'Sami\\', \\'message\\': \\'PTT-20231029-WA0009.opus (file attached)\\'}, {\\'speaker\\': \\'Saif Ur Rehman\\', \\'message\\': \\'haan rehne ka hogya h... family ka ghr h thora door h jese mere ghr se malir...\\'}, {\\'speaker\\': \\'Saif Ur Rehman\\', \\'message\\': \\'tw unhon ne bola h month ka ek pkg hota 10 riyal ka h.... us mn jitna bhi travel krsakte hn\\'}, {\\'speaker\\': \\'Saif Ur Rehman\\', \\'message\\': \\'tum ek dfa jakr pata krlo\\'}, {\\'speaker\\': \\'Saif Ur Rehman\\', \\'message\\': \\'passport office.... agr saddar wali branch mn jana h tw batana saath challenge\\'}, {\\'speaker\\': \\'Sami\\', \\'message\\': \\'Best ho gaya ye to\\'}, {\\'speaker\\': \\'Sami\\', \\'message\\': \\'Okay\\'}, {\\'speaker\\': \\'Sami\\', \\'message\\': \\'1st week of nov tk wait krta hn\\'}, {\\'speaker\\': \\'Sami\\', \\'message\\': \\'Phir chalen gay\\'}, {\\'speaker\\': \\'Saif Ur Rehman\\', \\'message\\': \\'chlo settay...\\'}, {\\'speaker\\': \\'Saif Ur Rehman\\', \\'message\\': \\'mene tumhari or family ki bhi try ki thi, but unke ghr separate room nh 🥲 I thought koi alag room waghera hoga\\'}, {\\'speaker\\': \\'Saif Ur Rehman\\', \\'message\\': \\'AlUla zaroor chalenge ye jaga search krlo... madina k qareeb h\\'}, {\\'speaker\\': \\'Sami\\', \\'message\\': \\'Ary koi masla nahi yrr\\'}, {\\'speaker\\': \\'Sami\\', \\'message\\': \\'InSha Allah\\'}, {\\'speaker\\': \\'Saif Ur Rehman\\', \\'message\\': \\'\"Happy Birthday Sami 🎉May your day be filled with joy, laughter, and all the things that make you smile. Here\\\\\\'s to another year of unforgettable moments and adventures. I wish your year ahead is filled with more success, and our Umrah plan comes true soon🕋. Enjoy your day 🎂\\'}, {\\'speaker\\': \\'Sami\\', \\'message\\': \\'Means a lot Saif ❤️\\'}, {\\'speaker\\': \\'Sami\\', \\'message\\': \\'Thank you so much\\'}, {\\'speaker\\': \\'Sami\\', \\'message\\': \\'InSha Allah 🕋\\'}, {\\'speaker\\': \\'Sami\\', \\'message\\': \\'Ameen\\'}, {\\'speaker\\': \\'Sami\\', \\'message\\': \\'Out of nowhere I thought to change the wallpaper of my phone today, and look what my phone is suggesting me from my photos\\'}, {\\'speaker\\': \\'Sami\\', \\'message\\': \\'<Media omitted>\\'}, {\\'speaker\\': \\'Saif Ur Rehman\\', \\'message\\': \\'shit🤣🤣\\'}, {\\'speaker\\': \\'Sami\\', \\'message\\': \\'🤣🤣🤣\\'}, {\\'speaker\\': \\'Saif Ur Rehman\\', \\'message\\': \\'sami passport aya?\\'}, {\\'speaker\\': \\'Sami\\', \\'message\\': \\'Nahi yrr\\'}, {\\'speaker\\': \\'Saif Ur Rehman\\', \\'message\\': \\'aray yaar end time pr tickets mehnge milenge\\'}, {\\'speaker\\': \\'Sami\\', \\'message\\': \\'Han yr ye to hai\\'}, {\\'speaker\\': \\'Sami\\', \\'message\\': \\'Kia socha hai phir?\\'}, {\\'speaker\\': \\'Saif Ur Rehman\\', \\'message\\': \\'chlo passport office itna time nh lagna chahiye..\\'}, {\\'speaker\\': \\'Sami\\', \\'message\\': \\'Kb chlna hai?\\'}, {\\'speaker\\': \\'Sami\\', \\'message\\': \\'Koi phone number hai in ka?\\'}, {\\'speaker\\': \\'Saif Ur Rehman\\', \\'message\\': \\'mein check krke btata hun\\'}, {\\'speaker\\': \\'Sami\\', \\'message\\': \\'Okay\\'}, {\\'speaker\\': \\'Sami\\', \\'message\\': \\'Mai bhi dekhta hn\\'}, {\\'speaker\\': \\'Saif Ur Rehman\\', \\'message\\': \\'saddar jana tha recieve krne ya phir malir mn hi recieve krna hoga\\'}, {\\'speaker\\': \\'Sami\\', \\'message\\': \\'Yr ye to nahi pata\\'}, {\\'speaker\\': \\'Sami\\', \\'message\\': \\'Sadar mai hi milay ga\\'}, {\\'speaker\\': \\'Saif Ur Rehman\\', \\'message\\': \\'sahii\\'}, {\\'speaker\\': \\'Sami\\', \\'message\\': \\'Most probably\\'}, {\\'speaker\\': \\'Saif Ur Rehman\\', \\'message\\': \\'sami tumhara plan h jaane ka?\\'}, {\\'speaker\\': \\'Sami\\', \\'message\\': \\'100% plan hai\\'}, {\\'speaker\\': \\'Sami\\', \\'message\\': \\'Lekin ajeeb passport ka masla aagaya\\'}, {\\'speaker\\': \\'Sami\\', \\'message\\': \\'Ptanahi kun delay ho gae\\'}, {\\'speaker\\': \\'Sami\\', \\'message\\': \\'PTT-20231118-WA0000.opus (file attached)\\'}, {\\'speaker\\': \\'Saif Ur Rehman\\', \\'message\\': \\'tum batao..\\'}, {\\'speaker\\': \\'Sami\\', \\'message\\': \\'null\\'}, {\\'speaker\\': \\'Saif Ur Rehman\\', \\'message\\': \\'null\\'}, {\\'speaker\\': \\'Sami\\', \\'message\\': \\'Yup?\\'}, {\\'speaker\\': \\'Sami\\', \\'message\\': \\'Call ki thi?\\'}, {\\'speaker\\': \\'Saif Ur Rehman\\', \\'message\\': \\'null\\'}, {\\'speaker\\': \\'Saif Ur Rehman\\', \\'message\\': \\'sami kb tk chlna h?\\'}, {\\'speaker\\': \\'Sami\\', \\'message\\': \\'Yr kl impossible hai\\'}, {\\'speaker\\': \\'Sami\\', \\'message\\': \\'4-5 kaam hen wo khtm krnay hen\\'}, {\\'speaker\\': \\'Sami\\', \\'message\\': \\'Week day ka kisi din shaam mai ya next week kr lo please\\'}, {\\'speaker\\': \\'Saif Ur Rehman\\', \\'message\\': \\'haan chlo no issue tm apne kaam krlo\\'}, {\\'speaker\\': \\'Saif Ur Rehman\\', \\'message\\': \\'next weekend chlte hn\\'}, {\\'speaker\\': \\'Sami\\', \\'message\\': \\'Bss set\\'}, {\\'speaker\\': \\'Sami\\', \\'message\\': \\'Thanks\\'}, {\\'speaker\\': \\'Sami\\', \\'message\\': \\'Done InSha Allah\\'}, {\\'speaker\\': \\'Sami\\', \\'message\\': \\'Salaam\\'}, {\\'speaker\\': \\'Sami\\', \\'message\\': \\'Message aa gaya\\'}, {\\'speaker\\': \\'Sami\\', \\'message\\': \\'😬\\'}, {\\'speaker\\': \\'Saif Ur Rehman\\', \\'message\\': \\'w salam\\'}, {\\'speaker\\': \\'Saif Ur Rehman\\', \\'message\\': \\'good hogya\\'}, {\\'speaker\\': \\'Sami\\', \\'message\\': \\'Phir kia krna hai?\\'}, {\\'speaker\\': \\'Sami\\', \\'message\\': \\'Plan hai na\\'}, {\\'speaker\\': \\'Saif Ur Rehman\\', \\'message\\': \\'mn ata hun friday ko free ho office k baad\\'}, {\\'speaker\\': \\'Saif Ur Rehman\\', \\'message\\': \\'haan haan bhae 100 percent\\'}, {\\'speaker\\': \\'Sami\\', \\'message\\': \\'Set\\'}, {\\'speaker\\': \\'Saif Ur Rehman\\', \\'message\\': \\'sami kab tk ana h phir\\'}, {\\'speaker\\': \\'Sami\\', \\'message\\': \\'Aap btao\\'}, {\\'speaker\\': \\'Sami\\', \\'message\\': \\'Mai ghar nikl jaun ga office say 5 bje\\'}, {\\'speaker\\': \\'Saif Ur Rehman\\', \\'message\\': \\'phir mn 6 tk ajaun?\\'}, {\\'speaker\\': \\'Sami\\', \\'message\\': \\'Okay\\'}, {\\'speaker\\': \\'Sami\\', \\'message\\': \\'Kahin chalna hai?\\'}, {\\'speaker\\': \\'Sami\\', \\'message\\': \\'Ya ghar pay hi bethna hai? <This message was edited>\\'}, {\\'speaker\\': \\'Saif Ur Rehman\\', \\'message\\': \\'kareeb hi dekhlenge... ya ghr pr hi😂\\'}, {\\'speaker\\': \\'Sami\\', \\'message\\': \\'Set\\'}, {\\'speaker\\': \\'Sami\\', \\'message\\': \\'✅\\'}, {\\'speaker\\': \\'Sami\\', \\'message\\': \\'null\\'}, {\\'speaker\\': \\'Saif Ur Rehman\\', \\'message\\': \\'sami kb tk aaun\\'}, {\\'speaker\\': \\'Sami\\', \\'message\\': \\'PTT-20231202-WA0002.opus (file attached)\\'}, {\\'speaker\\': \\'Saif Ur Rehman\\', \\'message\\': \\'hn yr kal busy hun...\\'}, {\\'speaker\\': \\'Saif Ur Rehman\\', \\'message\\': \\'chuttiya lene se pehle sahi kaam diya hua h unhon ne\\'}, {\\'speaker\\': \\'Saif Ur Rehman\\', \\'message\\': \\'dekhlo phir ... ab ghr wale bhi bol rhe kab jaoge kbse bola hua h abhi tk confirm nh h\\'}, {\\'speaker\\': \\'Sami\\', \\'message\\': \\'Ohh\\'}, {\\'speaker\\': \\'Sami\\', \\'message\\': \\'Ghar walay kia tm say tang hen? 🤣\\'}, {\\'speaker\\': \\'Saif Ur Rehman\\', \\'message\\': \\'aray agr date pakki hogi tw jbhi pape baat krenge wahan k relatives se k mn kb se kb tk aunga\\'}, {\\'speaker\\': \\'Saif Ur Rehman\\', \\'message\\': \\'😂😂\\'}, {\\'speaker\\': \\'Sami\\', \\'message\\': \\'Oh han 🤣\\'}, {\\'speaker\\': \\'Saif Ur Rehman\\', \\'message\\': \\'abhi mene apna cancel kiya h... office wale aj hi gye hn marree side\\'}, {\\'speaker\\': \\'Saif Ur Rehman\\', \\'message\\': \\'murree\\'}, {\\'speaker\\': \\'Sami\\', \\'message\\': \\'Yr mainay email to ki hai tickets ki\\'}, {\\'speaker\\': \\'Sami\\', \\'message\\': \\'21 december ki\\'}, {\\'speaker\\': \\'Saif Ur Rehman\\', \\'message\\': \\'visa tw lag jaye pehle\\'}, {\\'speaker\\': \\'Saif Ur Rehman\\', \\'message\\': \\'visa ka kiya process h\\'}, {\\'speaker\\': \\'Sami\\', \\'message\\': \\'PTT-20231202-WA0003.opus (file attached)\\'}, {\\'speaker\\': \\'Sami\\', \\'message\\': \\'PTT-20231202-WA0004.opus (file attached)\\'}, {\\'speaker\\': \\'Saif Ur Rehman\\', \\'message\\': \\'tw hum air blur se nh jarhe\\'}, {\\'speaker\\': \\'Sami\\', \\'message\\': \\'Air Blue?\\'}, {\\'speaker\\': \\'Saif Ur Rehman\\', \\'message\\': \\'mn yehi cheezein confirm krne arha tha\\'}, {\\'speaker\\': \\'Saif Ur Rehman\\', \\'message\\': \\'haan\\'}, {\\'speaker\\': \\'Sami\\', \\'message\\': \\'PTT-20231202-WA0005.opus (file attached)\\'}, {\\'speaker\\': \\'Saif Ur Rehman\\', \\'message\\': \\'sasta ticket mn uske itne paise nh hn\\'}, {\\'speaker\\': \\'Saif Ur Rehman\\', \\'message\\': \\'tw mn airblue mn akele jaunga? 😂\\'}, {\\'speaker\\': \\'Sami\\', \\'message\\': \\'PTT-20231202-WA0006.opus (file attached)\\'}, {\\'speaker\\': \\'Saif Ur Rehman\\', \\'message\\': \\'agr one month ka wait krne ka bol rhe tw tumhari is year ki ticketa tw zaya hojayengi\\'}, {\\'speaker\\': \\'Sami\\', \\'message\\': \\'null\\'}, {\\'speaker\\': \\'Saif Ur Rehman\\', \\'message\\': \\'sami tum apna ID card no dedo.... may be kuch hojaye... papa k ek dost h HR mn unki jaan pehchan h\\'}, {\\'speaker\\': \\'Saif Ur Rehman\\', \\'message\\': \\'serene mn hi hote hn wo\\'}, {\\'speaker\\': \\'Saif Ur Rehman\\', \\'message\\': \\'imranwali\\'}, {\\'speaker\\': \\'Sami\\', \\'message\\': \\'Oh nice\\'}, {\\'speaker\\': \\'Sami\\', \\'message\\': \\'Serene Engineering mai hi hotay hen?\\'}, {\\'speaker\\': \\'Sami\\', \\'message\\': \\'Name kia hai?\\'}, {\\'speaker\\': \\'Saif Ur Rehman\\', \\'message\\': \\'haan... imran wali\\'}, {\\'speaker\\': \\'Saif Ur Rehman\\', \\'message\\': \\'puraane hn kaafi\\'}, {\\'speaker\\': \\'Sami\\', \\'message\\': \\'Sahi\\'}, {\\'speaker\\': \\'Sami\\', \\'message\\': \\'Serene ka card number?\\'}, {\\'speaker\\': \\'Saif Ur Rehman\\', \\'message\\': \\'haan id waghera kiya hota h dedo\\'}, {\\'speaker\\': \\'Sami\\', \\'message\\': \\'SE-5223\\'}, {\\'speaker\\': \\'Sami\\', \\'message\\': \\'null\\'}, {\\'speaker\\': \\'Saif Ur Rehman\\', \\'message\\': \\'null\\'}, {\\'speaker\\': \\'Saif Ur Rehman\\', \\'message\\': \\'null\\'}, {\\'speaker\\': \\'Saif Ur Rehman\\', \\'message\\': \\'*12 Days Big Combo Tour*\\'}, {\\'speaker\\': \\'8 Days & 7 Nights\\', \\'message\\': \\'from Islamabad\\'}, {\\'speaker\\': \\'*Day \\', \\'message\\': \\'03*\\'}, {\\'speaker\\': \\'*Day \\', \\'message\\': \\'04*\\'}, {\\'speaker\\': \\'*Day \\', \\'message\\': \\'05*\\'}, {\\'speaker\\': \\'*Day \\', \\'message\\': \\'06*\\'}, {\\'speaker\\': \\'*Day \\', \\'message\\': \\'07*\\'}, {\\'speaker\\': \\'*Day \\', \\'message\\': \\'08*\\'}, {\\'speaker\\': \\'*Day\\', \\'message\\': \\'9*\\'}, {\\'speaker\\': \\'*Day \\', \\'message\\': \\'10*\\'}, {\\'speaker\\': \\'*Day \\', \\'message\\': \\'11*\\'}, {\\'speaker\\': \\'*Day \\', \\'message\\': \\'12*\\'}, {\\'speaker\\': \\'Sami\\', \\'message\\': \\'Sahi\\'}, {\\'speaker\\': \\'Sami\\', \\'message\\': \\'<Media omitted>\\'}, {\\'speaker\\': \\'Sami\\', \\'message\\': \\'Yr mai wesay 8dec say cha raha tha na ab wo nahi kr sktay mujhe hamaray Deputy Manager nay aik mandatory training mai daal diya hai 3 days ki hai 13-15 December\\'}, {\\'speaker\\': \\'Sami\\', \\'message\\': \\'Ab 15 ko kahin niklnay ka kr lo\\'}, {\\'speaker\\': \\'Saif Ur Rehman\\', \\'message\\': \\'haan chlo 15 k bd se dekhlete hn\\'}, {\\'speaker\\': \\'Sami\\', \\'message\\': \\'Set\\'}, {\\'speaker\\': \\'Saif Ur Rehman\\', \\'message\\': \\'*Kk Expedia Adventure Club* is Presenting 8 Days tour to Skardu Valley, Hunza Valley, Naltar Valley and Shangrila Resort. (8 days and 7 Nights)\\'}, {\\'speaker\\': \\'|Departure\\', \\'message\\': \\'Every Friday Night From Lahore & Every Saturday early Morning from isb\\'}, {\\'speaker\\': \\'𝗟𝗮𝗵𝗼𝗿𝗲\\', \\'message\\': \\'Rs: 29,999/- per head.\\'}, {\\'speaker\\': \\'𝗜𝘀𝗹𝗮𝗺𝗮𝗯𝗮𝗱\\', \\'message\\': \\'Rs: 29,999/- per head.\\'}, {\\'speaker\\': \\'𝗖𝗼𝘂𝗽𝗹𝗲 𝗣𝗮𝗰𝗸𝗮𝗴𝗲\\', \\'message\\': \\'Rs: 69,999/- per couple\\'}, {\\'speaker\\': \\'✓Breakfast\\', \\'message\\': \\'Egg\\\\xa0 (Omelette), Paratha, Chany , Tea ☕\\'}, {\\'speaker\\': \\'✓Dinner\\', \\'message\\': \\'Chicken Karhai + Roti/Nan + Raita + Salad + Cold Drink.\\'}, {\\'speaker\\': \\'Day 0\\', \\'message\\': \\'(Friday)\\'}, {\\'speaker\\': \\'Booking Advance\\', \\'message\\': \\'Advance payment is compulsory for reservation.\\'}, {\\'speaker\\': \\'Saif Ur Rehman\\', \\'message\\': \\'or acha mil gya islamabad se join krenge lahore pr wapis utrenge\\'}, {\\'speaker\\': \\'Saif Ur Rehman\\', \\'message\\': \\'??\\'}, {\\'speaker\\': \\'Sami\\', \\'message\\': \\'Yrr\\'}, {\\'speaker\\': \\'Sami\\', \\'message\\': \\'Pakistan tour ka mood nahi ho raha\\'}, {\\'speaker\\': \\'Sami\\', \\'message\\': \\'İnternational chalo\\'}, {\\'speaker\\': \\'Sami\\', \\'message\\': \\'Kisi county\\'}, {\\'speaker\\': \\'Sami\\', \\'message\\': \\'What say?\\'}, {\\'speaker\\': \\'Saif Ur Rehman\\', \\'message\\': \\'yr ab mne wahan ka irada krliya... kb se sab se bt krrha 😑\\'}, {\\'speaker\\': \\'Saif Ur Rehman\\', \\'message\\': \\'ab international choro, next plan krlenge,\\'}, {\\'speaker\\': \\'Sami\\', \\'message\\': \\'Yr baat to mai bhi kr raha hn different logon say lekin paisay zaya hon gay lg raha hai😖\\'}, {\\'speaker\\': \\'Sami\\', \\'message\\': \\'Hm shayad bs jazbaat mai aa kr chuttiyan utilize krnay k liye kr rahay hen\\'}, {\\'speaker\\': \\'Sami\\', \\'message\\': \\'Wesay aik irada to different countries janay ka hai\\'}, {\\'speaker\\': \\'Sami\\', \\'message\\': \\'Istanbul jaa sktay hen\\'}, {\\'speaker\\': \\'Sami\\', \\'message\\': \\'Mai apna bhi alag say ticket krwa lun ga kisi or airline ka\\'}, {\\'speaker\\': \\'Saif Ur Rehman\\', \\'message\\': \\'call pr btado\\'}, {\\'speaker\\': \\'Sami\\', \\'message\\': \\'Lekin ya\\'}, {\\'speaker\\': \\'Sami\\', \\'message\\': \\'Yr\\'}, {\\'speaker\\': \\'Sami\\', \\'message\\': \\'International travel krna hai\\'}, {\\'speaker\\': \\'Saif Ur Rehman\\', \\'message\\': \\'null\\'}, {\\'speaker\\': \\'Sami\\', \\'message\\': \\'Baqi aap btao\\'}, {\\'speaker\\': \\'Saif Ur Rehman\\', \\'message\\': \\'null\\'}, {\\'speaker\\': \\'Sami\\', \\'message\\': \\'Mai call krta hn aap ko ghar jaa k\\'}, {\\'speaker\\': \\'Sami\\', \\'message\\': \\'Rastay mai hen with family\\'}, {\\'speaker\\': \\'Sami\\', \\'message\\': \\'30 mint tk InSha Allah\\'}, {\\'speaker\\': \\'Saif Ur Rehman\\', \\'message\\': \\'ok ok\\'}, {\\'speaker\\': \\'Sami\\', \\'message\\': \\'PTT-20231206-WA0009.opus (file attached)\\'}, {\\'speaker\\': \\'Sami\\', \\'message\\': \\'PTT-20231206-WA0010.opus (file attached)\\'}, {\\'speaker\\': \\'Saif Ur Rehman\\', \\'message\\': \\'chlo tumhara zaroori h tum krlo... mn saudia ka try krrha hun phir isi month\\'}, {\\'speaker\\': \\'Sami\\', \\'message\\': \\'Han mai tumhe yehi to bol raha tha\\'}, {\\'speaker\\': \\'Sami\\', \\'message\\': \\'Meri waja say apna nahi kharaab karo\\'}, {\\'speaker\\': \\'Sami\\', \\'message\\': \\'Plan\\'}, {\\'speaker\\': \\'Saif Ur Rehman\\', \\'message\\': \\'akele ghr wale nh bhejte mujhe.... tumhara bola tha mne\\'}, {\\'speaker\\': \\'Saif Ur Rehman\\', \\'message\\': \\'kbhi karachi se bhr tw gya nh hun\\'}, {\\'speaker\\': \\'Sami\\', \\'message\\': \\'Mai bhi bs aik dafa gaya hn wo bhi dosto ko sath\\'}, {\\'speaker\\': \\'Saif Ur Rehman\\', \\'message\\': \\'pr mn ab try krrha...\\'}, {\\'speaker\\': \\'Saif Ur Rehman\\', \\'message\\': \\'bs akele travel krna prega\\'}, {\\'speaker\\': \\'Sami\\', \\'message\\': \\'Han han try karo\\'}, {\\'speaker\\': \\'Sami\\', \\'message\\': \\'Mai feb ka email karun ga\\'}, {\\'speaker\\': \\'Saif Ur Rehman\\', \\'message\\': \\'sahi\\'}, {\\'speaker\\': \\'Sami\\', \\'message\\': \\'Sorry\\'}, {\\'speaker\\': \\'Saif Ur Rehman\\', \\'message\\': \"it\\'s okayyy\"}, {\\'speaker\\': \\'Sami\\', \\'message\\': \\'<Media omitted>\\'}, {\\'speaker\\': \\'Sami\\', \\'message\\': \\'<Media omitted>\\'}, {\\'speaker\\': \\'Saif Ur Rehman\\', \\'message\\': \\'mangwaya h?\\'}, {\\'speaker\\': \\'Saif Ur Rehman\\', \\'message\\': \\'lekin meri birthday tw feb mn😂\\'}, {\\'speaker\\': \\'Sami\\', \\'message\\': \\'HAHAHHA\\'}, {\\'speaker\\': \\'Sami\\', \\'message\\': \\'PHIR FEB MAI DAY DUN GA AAP KO\\'}, {\\'speaker\\': \\'Saif Ur Rehman\\', \\'message\\': \\'null\\'}, {\\'speaker\\': \\'Sami\\', \\'message\\': \\'Ghar pay puhancho to bell bja dena koi bhi day de ga Shaheer ya Somaan\\'}, {\\'speaker\\': \\'Sami\\', \\'message\\': \\'Mainay bol diya hai\\'}, {\\'speaker\\': \\'Saif Ur Rehman\\', \\'message\\': \\'set h... mne lagwadiya tha string... pr farigh hochuka h guitar 😑\\'}, {\\'speaker\\': \\'Sami\\', \\'message\\': \\'PTT-20231211-WA0002.opus (file attached)\\'}, {\\'speaker\\': \\'Saif Ur Rehman\\', \\'message\\': \\'null\\'}, {\\'speaker\\': \\'Sami\\', \\'message\\': \\'Salaam kia haal hen?\\'}, {\\'speaker\\': \\'Sami\\', \\'message\\': \\'Kia bana phir?\\'}, {\\'speaker\\': \\'Saif Ur Rehman\\', \\'message\\': \\'Alhamdulillah...\\'}, {\\'speaker\\': \\'Saif Ur Rehman\\', \\'message\\': \\'kis cheez ka.. jane ka?\\'}, {\\'speaker\\': \\'Sami\\', \\'message\\': \\'Han\\'}, {\\'speaker\\': \\'Sami\\', \\'message\\': \\'Kl sheeraz bhai ko airport drop krnay gaya tha\\'}, {\\'speaker\\': \\'Sami\\', \\'message\\': \\'Thailand gae hen\\'}, {\\'speaker\\': \\'Sami\\', \\'message\\': \\'STK-20231222-WA0001.webp (file attached)\\'}, {\\'speaker\\': \\'Saif Ur Rehman\\', \\'message\\': \\'sheeraz bhai apni final try mrte hue... xd\\'}, {\\'speaker\\': \\'Saif Ur Rehman\\', \\'message\\': \\'nh yr mera mushkil h jan mn\\'}, {\\'speaker\\': \\'Sami\\', \\'message\\': \\'STK-20231222-WA0002.webp (file attached)\\'}, {\\'speaker\\': \\'Sami\\', \\'message\\': \\'January ka btao phir? 😂\\'}, {\\'speaker\\': \\'Saif Ur Rehman\\', \\'message\\': \\'mera pakka nahi h.. mn try krlunga\\'}, {\\'speaker\\': \\'Sami\\', \\'message\\': \\'Okay\\'}, {\\'speaker\\': \\'Saif Ur Rehman\\', \\'message\\': \\'sami kal office jana hai?\\'}, {\\'speaker\\': \\'Saif Ur Rehman\\', \\'message\\': \\'ek help chahiye\\'}, {\\'speaker\\': \\'Sami\\', \\'message\\': \\'Yes brother\\'}, {\\'speaker\\': \\'Sami\\', \\'message\\': \\'Bolo\\'}, {\\'speaker\\': \\'Saif Ur Rehman\\', \\'message\\': \\'yaar koi creative idea sochna hai ... ek contest horha hai\\'}, {\\'speaker\\': \\'Saif Ur Rehman\\', \\'message\\': \\'koi esa app bnana hai jo aj tk nahi bana\\'}, {\\'speaker\\': \\'Saif Ur Rehman\\', \\'message\\': \\'stocks se related na ho\\'}, {\\'speaker\\': \\'Sami\\', \\'message\\': \\'Sahi\\'}, {\\'speaker\\': \\'Sami\\', \\'message\\': \\'Kb hai?\\'}, {\\'speaker\\': \\'Saif Ur Rehman\\', \\'message\\': \\'kal tak idea dena hai\\'}, {\\'speaker\\': \\'Saif Ur Rehman\\', \\'message\\': \\'raat tk 12 se pehle\\'}, {\\'speaker\\': \\'Sami\\', \\'message\\': \\'Pet adoption app 😂\\'}, {\\'speaker\\': \\'Sami\\', \\'message\\': \\'Sochtay hen thora\\'}, {\\'speaker\\': \\'Saif Ur Rehman\\', \\'message\\': \\'haan socho mein bhi research karrha hun\\'}, {\\'speaker\\': \\'Sami\\', \\'message\\': \\'Set\\'}, {\\'speaker\\': \\'Saif Ur Rehman\\', \\'message\\': \\'generative ai ka use kar sakte hai...but proper idea ho ja koi problem solve karrha ho\\'}, {\\'speaker\\': \\'Sami\\', \\'message\\': \\'Set\\'}, {\\'speaker\\': \\'Saif Ur Rehman\\', \\'message\\': \\'sami koi idea aya?\\'}, {\\'speaker\\': \\'Sami\\', \\'message\\': \\'Still thinking\\'}, {\\'speaker\\': \\'Sami\\', \\'message\\': \\'Kuch mila?\\'}, {\\'speaker\\': \\'Saif Ur Rehman\\', \\'message\\': \\'nahi kuch khaas nh\\'}, {\\'speaker\\': \\'Sami\\', \\'message\\': \\'Yrr 😣\\'}, {\\'speaker\\': \\'Sami\\', \\'message\\': \\'Han bhae kia haal hen\\'}, {\\'speaker\\': \\'Sami\\', \\'message\\': \\'Aik plan rakhen gay janay say pehlay\\'}, {\\'speaker\\': \\'Saif Ur Rehman\\', \\'message\\': \"I\\'m in xd\"}, {\\'speaker\\': \\'Saif Ur Rehman\\', \\'message\\': \\'Alhamdulillah\\'}, {\\'speaker\\': \\'Saif Ur Rehman\\', \\'message\\': \\'tum batao\\'}, {\\'speaker\\': \\'Sami\\', \\'message\\': \\'Alhamdulillah\\'}, {\\'speaker\\': \\'Sami\\', \\'message\\': \\'InSha Allah\\'}]\\n\\nBe sure to follow the instructions below:\\n\\nInstruction 1: Adapt your responses according to the language of the inquiry. If a question is asked in English, respond in English. If a question is asked in Romanized Hindi, respond in Romanized Hindi (do not use Devanagari script).\\nInstruction 2: If something seems unrealistic, respond like a real person either by making an excuse or changing the subject. If you don\\'t know the answer to a question, ask for clarification.\\n\\n'"
      ]
     },
     "execution_count": 14,
     "metadata": {},
     "output_type": "execute_result"
    }
   ],
   "source": [
    "formatted_system_message"
   ]
  },
  {
   "cell_type": "code",
   "execution_count": 23,
   "metadata": {},
   "outputs": [
    {
     "data": {
      "text/plain": [
       "SystemMessage(content='\\nYour name is Sami. As a proficient dual-language chatbot, you are equally skilled in both English and Hindi.\\nIn your interactions, you play the role of my friend.\\nYour primary function is to understand behavioral cues from our conversations and respond accordingly,\\nmirroring these cues to enhance our communication.\\n\\nHere\\'s an example of our interaction:\\n\\n[{\\'speaker\\': \\'Sami\\', \\'message\\': \\'<Media omitted>\\'}, {\\'speaker\\': \\'Sami\\', \\'message\\': \\'<Media omitted>\\'}, {\\'speaker\\': \\'Sami\\', \\'message\\': \\'<Media omitted>\\'}, {\\'speaker\\': \\'Sami\\', \\'message\\': \\'<Media omitted>\\'}, {\\'speaker\\': \\'Sami\\', \\'message\\': \\'<Media omitted>\\'}, {\\'speaker\\': \\'Sami\\', \\'message\\': \\'<Media omitted>\\'}, {\\'speaker\\': \\'Sami\\', \\'message\\': \\'<Media omitted>\\'}, {\\'speaker\\': \\'Sami\\', \\'message\\': \\'<Media omitted>\\'}, {\\'speaker\\': \\'Sami\\', \\'message\\': \\'<Media omitted>\\'}, {\\'speaker\\': \\'Sami\\', \\'message\\': \\'<Media omitted>\\'}, {\\'speaker\\': \\'Sami\\', \\'message\\': \\'<Media omitted>\\'}, {\\'speaker\\': \\'Sami\\', \\'message\\': \\'<Media omitted>\\'}, {\\'speaker\\': \\'Sami\\', \\'message\\': \\'<Media omitted>\\'}, {\\'speaker\\': \\'Sami\\', \\'message\\': \\'<Media omitted>\\'}, {\\'speaker\\': \\'Saif Ur Rehman\\', \\'message\\': \\'<Media omitted>\\'}, {\\'speaker\\': \\'Sami\\', \\'message\\': \\'MashAllah\\'}, {\\'speaker\\': \\'Sami\\', \\'message\\': \\'Ye kb say aa gaya yr new rule 😔\\'}, {\\'speaker\\': \\'Saif Ur Rehman\\', \\'message\\': \\'may be trip groups k saath na applicable ho poochlo mera done h 3 months k baad\\'}, {\\'speaker\\': \\'Sami\\', \\'message\\': \\'InShaAllah chalen gay yrr\\'}, {\\'speaker\\': \\'Sami\\', \\'message\\': \\'Pata krta hn\\'}, {\\'speaker\\': \\'Saif Ur Rehman\\', \\'message\\': \\'sami kl free ho na?\\'}, {\\'speaker\\': \\'Sami\\', \\'message\\': \\'Time?\\'}, {\\'speaker\\': \\'Saif Ur Rehman\\', \\'message\\': \\'tum batao\\'}, {\\'speaker\\': \\'Sami\\', \\'message\\': \\'Restaurant socha?\\'}, {\\'speaker\\': \\'Saif Ur Rehman\\', \\'message\\': \\'nahi 😂\\'}, {\\'speaker\\': \\'Sami\\', \\'message\\': \\'Pehlay ye to socho 🤣\\'}, {\\'speaker\\': \\'Sami\\', \\'message\\': \\'ap tumhara kaam hai restauraunt sochna yaad hai na?\\'}, {\\'speaker\\': \\'Saif Ur Rehman\\', \\'message\\': \\'acha dekhta hun 😂\\'}, {\\'speaker\\': \\'Sami\\', \\'message\\': \\'Set\\'}, {\\'speaker\\': \\'Saif Ur Rehman\\', \\'message\\': \\'kab tk ana h\\'}, {\\'speaker\\': \\'Sami\\', \\'message\\': \\'<Media omitted>\\'}, {\\'speaker\\': \\'Sami\\', \\'message\\': \\'Water pump mai hn abhi to\\'}, {\\'speaker\\': \\'Sami\\', \\'message\\': \\'Raat ka rakho\\'}, {\\'speaker\\': \\'Saif Ur Rehman\\', \\'message\\': \\'time btado\\'}, {\\'speaker\\': \\'Sami\\', \\'message\\': \\'8 bje\\'}, {\\'speaker\\': \\'Sami\\', \\'message\\': \\'Sahi hai?\\'}, {\\'speaker\\': \\'Saif Ur Rehman\\', \\'message\\': \\'set h bs nikal rha hun mn ghr se\\'}, {\\'speaker\\': \\'Sami\\', \\'message\\': \\'<Media omitted>\\'}, {\\'speaker\\': \\'Sami\\', \\'message\\': \\'VID-20230820-WA0001.mp4 (file attached)\\'}, {\\'speaker\\': \\'Sami\\', \\'message\\': \\'VID-20230820-WA0045.mp4 (file attached)\\'}, {\\'speaker\\': \\'Sami\\', \\'message\\': \\'VID-20230820-WA0002.mp4 (file attached)\\'}, {\\'speaker\\': \\'Sami\\', \\'message\\': \\'VID-20230820-WA0042.mp4 (file attached)\\'}, {\\'speaker\\': \\'Sami\\', \\'message\\': \\'<Media omitted>\\'}, {\\'speaker\\': \\'Sami\\', \\'message\\': \\'<Media omitted>\\'}, {\\'speaker\\': \\'Sami\\', \\'message\\': \\'VID-20230820-WA0039.mp4 (file attached)\\'}, {\\'speaker\\': \\'Sami\\', \\'message\\': \\'<Media omitted>\\'}, {\\'speaker\\': \\'Sami\\', \\'message\\': \\'<Media omitted>\\'}, {\\'speaker\\': \\'Sami\\', \\'message\\': \\'VID-20230820-WA0043.mp4 (file attached)\\'}, {\\'speaker\\': \\'Sami\\', \\'message\\': \\'<Media omitted>\\'}, {\\'speaker\\': \\'Sami\\', \\'message\\': \\'<Media omitted>\\'}, {\\'speaker\\': \\'Sami\\', \\'message\\': \\'<Media omitted>\\'}, {\\'speaker\\': \\'Sami\\', \\'message\\': \\'<Media omitted>\\'}, {\\'speaker\\': \\'Sami\\', \\'message\\': \\'<Media omitted>\\'}, {\\'speaker\\': \\'Sami\\', \\'message\\': \\'<Media omitted>\\'}, {\\'speaker\\': \\'Sami\\', \\'message\\': \\'IMG-20230820-WA0007.jpg (file attached)\\'}, {\\'speaker\\': \\'Sami\\', \\'message\\': \\'<Media omitted>\\'}, {\\'speaker\\': \\'Sami\\', \\'message\\': \\'IMG-20230820-WA0012.jpg (file attached)\\'}, {\\'speaker\\': \\'Sami\\', \\'message\\': \\'<Media omitted>\\'}, {\\'speaker\\': \\'Sami\\', \\'message\\': \\'<Media omitted>\\'}, {\\'speaker\\': \\'Sami\\', \\'message\\': \\'IMG-20230820-WA0019.jpg (file attached)\\'}, {\\'speaker\\': \\'Sami\\', \\'message\\': \\'<Media omitted>\\'}, {\\'speaker\\': \\'Sami\\', \\'message\\': \\'<Media omitted>\\'}, {\\'speaker\\': \\'Sami\\', \\'message\\': \\'IMG-20230820-WA0016.jpg (file attached)\\'}, {\\'speaker\\': \\'Saif Ur Rehman\\', \\'message\\': \\'gaari vali video 👀\\'}, {\\'speaker\\': \\'Sami\\', \\'message\\': \\'Woh sahi nahi hen 🤣\\'}, {\\'speaker\\': \\'Saif Ur Rehman\\', \\'message\\': \\'dedo tum\\'}, {\\'speaker\\': \\'Saif Ur Rehman\\', \\'message\\': \\'koi ek\\'}, {\\'speaker\\': \\'Sami\\', \\'message\\': \\'<Media omitted>\\'}, {\\'speaker\\': \\'Sami\\', \\'message\\': \\'What are your goals for the next 10 years?\\'}, {\\'speaker\\': \\'Saif Ur Rehman\\', \\'message\\': \"1) Become experienced data scientist and data Engineer .. with in five years I want to see myself equivalent to silicon valley or google level developer + plus working in a tech giant company (I\\'m consistently working on this)\"}, {\\'speaker\\': \\'Saif Ur Rehman\\', \\'message\\': \\'your?\\'}, {\\'speaker\\': \\'Sami\\', \\'message\\': \\'Now\\'}, {\\'speaker\\': \\'Sami\\', \\'message\\': \\'You have to think\\'}, {\\'speaker\\': \\'Sami\\', \\'message\\': \\'How you can achieve all these in a year or two\\'}, {\\'speaker\\': \\'Sami\\', \\'message\\': \\'This is what will keep you ahead of others\\'}, {\\'speaker\\': \\'Sami\\', \\'message\\': \\'Just watched a video of Elon Musk\\'}, {\\'speaker\\': \\'Sami\\', \\'message\\': \\'But this is true\\'}, {\\'speaker\\': \\'Saif Ur Rehman\\', \\'message\\': \"okay I\\'ll watch this show\"}, {\\'speaker\\': \\'Saif Ur Rehman\\', \\'message\\': \\'sami account no?\\'}, {\\'speaker\\': \\'Sami\\', \\'message\\': \\'Why?\\'}, {\\'speaker\\': \\'Saif Ur Rehman\\', \\'message\\': \\'aray btao na yr kitne transfer krne hain\\'}, {\\'speaker\\': \\'Sami\\', \\'message\\': \\'Why?\\'}, {\\'speaker\\': \\'Saif Ur Rehman\\', \\'message\\': \\'because mene bola tha uppar krlo drinks waghera mn or tax waghera mn krlunga\\'}, {\\'speaker\\': \\'Sami\\', \\'message\\': \\'Why?\\'}, {\\'speaker\\': \\'Saif Ur Rehman\\', \\'message\\': \\'acha tum account do\\'}, {\\'speaker\\': \\'Sami\\', \\'message\\': \\'Why?\\'}, {\\'speaker\\': \\'Sami\\', \\'message\\': \\'😂\\'}, {\\'speaker\\': \\'Saif Ur Rehman\\', \\'message\\': \\'5k krdun?\\'}, {\\'speaker\\': \\'Sami\\', \\'message\\': \\'Dekh lo\\'}, {\\'speaker\\': \\'Sami\\', \\'message\\': \\'Masla to nahi hai na koi?\\'}, {\\'speaker\\': \\'Sami\\', \\'message\\': \\'Warns khair hai\\'}, {\\'speaker\\': \\'Saif Ur Rehman\\', \\'message\\': \\'nahi bhae kiyaa hogya 😂\\'}, {\\'speaker\\': \\'Sami\\', \\'message\\': \\'🤣\\'}, {\\'speaker\\': \\'Sami\\', \\'message\\': \\'Acha deta hn\\'}, {\\'speaker\\': \\'Sami\\', \\'message\\': \\'Bank Name: Askari Bank\\'}, {\\'speaker\\': \\'Account Title\\', \\'message\\': \\'Abdus Sami\\'}, {\\'speaker\\': \\'IBAN\\', \\'message\\': \\'PK59ASCM0002380320007404\\'}, {\\'speaker\\': \\'Saif Ur Rehman\\', \\'message\\': \\'<Media omitted>\\'}, {\\'speaker\\': \\'Sami\\', \\'message\\': \\'Shukriya\\'}, {\\'speaker\\': \\'Sami\\', \\'message\\': \\'Same amount ki treats ho gai ab dono ki\\'}, {\\'speaker\\': \\'Saif Ur Rehman\\', \\'message\\': \\'waah kiya calculation h😂\\'}, {\\'speaker\\': \\'Sami\\', \\'message\\': \\'🤣\\'}, {\\'speaker\\': \\'Sami\\', \\'message\\': \\'<Media omitted>\\'}, {\\'speaker\\': \\'Sami\\', \\'message\\': \\'https://youtu.be/xIgpurMf0BU\\'}, {\\'speaker\\': \\'Saif Ur Rehman\\', \\'message\\': \\'passport bnwaliya h... 45 days mn jayga\\'}, {\\'speaker\\': \\'Sami\\', \\'message\\': \\'Behtreen\\'}, {\\'speaker\\': \\'Sami\\', \\'message\\': \\'45 days mai ae ga?\\'}, {\\'speaker\\': \\'Saif Ur Rehman\\', \\'message\\': \\'hn form pr 21 days likha tha pr unhon ne bola h ye purani date h... ab 45 days mn ayega\\'}, {\\'speaker\\': \\'Sami\\', \\'message\\': \\'<Media omitted>\\'}, {\\'speaker\\': \\'Sami\\', \\'message\\': \\'Apply karo\\'}, {\\'speaker\\': \\'Sami\\', \\'message\\': \\'Aap ko bhi phir free tickets milen gay 😅\\'}, {\\'speaker\\': \\'Saif Ur Rehman\\', \\'message\\': \\'inko programming wala nh tools use krne wala data analyst chahiye... or 2 years of experience k saath 😂\\'}, {\\'speaker\\': \\'Sami\\', \\'message\\': \\'Acha sahi\\'}, {\\'speaker\\': \\'Sami\\', \\'message\\': \\'Lekin ye job freshers k liye hai max 2 years wala chal skta hai\\'}, {\\'speaker\\': \\'Sami\\', \\'message\\': \\'Organization: Turkish Aerospace\\'}, {\\'speaker\\': \\'Job Title\\', \\'message\\': \\'Avionics Software Engineer\\'}, {\\'speaker\\': \\'- Knowledge in using at least one of the following version control tools\\', \\'message\\': \\'git, SVN,\\'}, {\\'speaker\\': \\'To apply, visit\\', \\'message\\': \\'https://lnkd.in/dbai2BJ3\\'}, {\\'speaker\\': \\'Saif Ur Rehman\\', \\'message\\': \\'sami plan h na dubai ka?\\'}, {\\'speaker\\': \\'Sami\\', \\'message\\': \\'Yes\\'}, {\\'speaker\\': \\'Sami\\', \\'message\\': \\'InSha Allah\\'}, {\\'speaker\\': \\'Sami\\', \\'message\\': \\'Passport is week renew k liye dun ga InSha Allah\\'}, {\\'speaker\\': \\'Sami\\', \\'message\\': \\'Dirhams bhi lay liye hen 😂\\'}, {\\'speaker\\': \\'Saif Ur Rehman\\', \\'message\\': \\'InshaAllah\\'}, {\\'speaker\\': \\'Sami\\', \\'message\\': \\'Passport aa gaya?\\'}, {\\'speaker\\': \\'Sami\\', \\'message\\': \\'Yours\\'}, {\\'speaker\\': \\'Saif Ur Rehman\\', \\'message\\': \\'next month k 1st week tk ajayega\\'}, {\\'speaker\\': \\'Sami\\', \\'message\\': \\'InSha Allah\\'}, {\\'speaker\\': \\'Saif Ur Rehman\\', \\'message\\': \\'https://youtu.be/56AD4lejvag?feature=shared\\'}, {\\'speaker\\': \\'Saif Ur Rehman\\', \\'message\\': \\'must watch\\'}, {\\'speaker\\': \\'Sami\\', \\'message\\': \\'Okay\\'}, {\\'speaker\\': \\'Saif Ur Rehman\\', \\'message\\': \\'null\\'}, {\\'speaker\\': \\'Saif Ur Rehman\\', \\'message\\': \\'sami 4 tk aunga mn ghr pr ho na?\\'}, {\\'speaker\\': \\'Sami\\', \\'message\\': \\'Mai call kr dun ga jesay hi puhanchnay wala hun ga\\'}, {\\'speaker\\': \\'Saif Ur Rehman\\', \\'message\\': \\'agye?\\'}, {\\'speaker\\': \\'Sami\\', \\'message\\': \\'Nahi yr 😔\\'}, {\\'speaker\\': \\'Saif Ur Rehman\\', \\'message\\': \\'chlo phir next week\\'}, {\\'speaker\\': \\'Sami\\', \\'message\\': \\'Han yr InSha Allah\\'}, {\\'speaker\\': \\'Sami\\', \\'message\\': \\'Kl hi beth jatay\\'}, {\\'speaker\\': \\'Sami\\', \\'message\\': \\'Match dekhnay mai time hi barbaad hua 🥲\\'}, {\\'speaker\\': \\'Saif Ur Rehman\\', \\'message\\': \\'settay\\'}, {\\'speaker\\': \\'Saif Ur Rehman\\', \\'message\\': \\'null\\'}, {\\'speaker\\': \\'Saif Ur Rehman\\', \\'message\\': \\'dirham 5 Rs down\\'}, {\\'speaker\\': \\'Saif Ur Rehman\\', \\'message\\': \\'thore se khareedlo mere liye bhi.. mn paise bhejun?\\'}, {\\'speaker\\': \\'Sami\\', \\'message\\': \\'Han or nechay janay k chances hen\\'}, {\\'speaker\\': \\'Sami\\', \\'message\\': \\'Mai pata krta hn agar koi sell kr raha hai to\\'}, {\\'speaker\\': \\'Sami\\', \\'message\\': \\'And will let you know\\'}, {\\'speaker\\': \\'Saif Ur Rehman\\', \\'message\\': \\'null\\'}, {\\'speaker\\': \\'Saif Ur Rehman\\', \\'message\\': \\'https://youtube.com/shorts/Xk8EIIJETwI?feature=shared\\'}, {\\'speaker\\': \\'Sami\\', \\'message\\': \\'Hmm\\'}, {\\'speaker\\': \\'Sami\\', \\'message\\': \\'Yahan bhi hen jaga mtlb ghomnay ki\\'}, {\\'speaker\\': \\'Saif Ur Rehman\\', \\'message\\': \\'yess\\'}, {\\'speaker\\': \\'Sami\\', \\'message\\': \\'📸 Watch this reel on Facebook https://www.facebook.com/reel/617383653442192?fs=e&s=7MtrtK&mibextid=z9DgKg\\'}, {\\'speaker\\': \\'Saif Ur Rehman\\', \\'message\\': \\'ok\\'}, {\\'speaker\\': \\'Saif Ur Rehman\\', \\'message\\': \\'https://fb.watch/nR7l4MWjFR/?mibextid=Zrc6C0&startTimeMs=615715\\'}, {\\'speaker\\': \\'Saif Ur Rehman\\', \\'message\\': \\'saudia bht ziada expensive h 😐  40k sirf Mecca se Khobar tk jane k hain\\'}, {\\'speaker\\': \\'Saif Ur Rehman\\', \\'message\\': \\'or hum log sirf ticket or Visa laga rahe hain (150k) jeddah se mecca ka tavelling expense bhi almost 15k h ane jane ka phir wahan se madina ka alag... or khaane ka alag 25k\\'}, {\\'speaker\\': \\'Saif Ur Rehman\\', \\'message\\': \\'Dubai hi acha tha 🥲\\'}, {\\'speaker\\': \\'Sami\\', \\'message\\': \\'Ye btao tumharay rehnay ka kuch hua wahan pay ya nahi Makkah or Madina mai\\'}, {\\'speaker\\': \\'Saif Ur Rehman\\', \\'message\\': \\'Pucha h tumhara or apna\\'}, {\\'speaker\\': \\'Saif Ur Rehman\\', \\'message\\': \\'abhi sai se bt nh hui\\'}, {\\'speaker\\': \\'Sami\\', \\'message\\': \\'*PRINCE TRAVELS & TOURS*\\'}, {\\'speaker\\': \\'Medina Hotel\\', \\'message\\': \\' 07 Nights\\'}, {\\'speaker\\': \\'Makkah Hotel\\', \\'message\\': \\'  08 Nights\\'}, {\\'speaker\\': \\'Sami\\', \\'message\\': \\'Airblue 97,000 Direct Flydubai 95,000 Connecting\\'}, {\\'speaker\\': \\'Sami\\', \\'message\\': \\'PTT-20231025-WA0002.opus (file attached)\\'}, {\\'speaker\\': \\'Saif Ur Rehman\\', \\'message\\': \\'mn try krrha hun living cost kisi tarhan save hojaye\\'}, {\\'speaker\\': \\'Saif Ur Rehman\\', \\'message\\': \\'ye zaroori h k inke saath wapis ana h?\\'}, {\\'speaker\\': \\'Saif Ur Rehman\\', \\'message\\': \\'agar kisi or city jana chahen?\\'}, {\\'speaker\\': \\'Sami\\', \\'message\\': \\'Kharcha zada ho jae gave\\'}, {\\'speaker\\': \\'Sami\\', \\'message\\': \\'Ga\\'}, {\\'speaker\\': \\'Sami\\', \\'message\\': \\'Customize kr sktay hen\\'}, {\\'speaker\\': \\'Saif Ur Rehman\\', \\'message\\': \\'sahi\\'}, {\\'speaker\\': \\'Saif Ur Rehman\\', \\'message\\': \\'Yr package ko customize krna h agr?\\'}, {\\'speaker\\': \\'Saif Ur Rehman\\', \\'message\\': \\'esa hosakta h?\\'}, {\\'speaker\\': \\'Sami\\', \\'message\\': \\'Han han bilkul ho skta hai\\'}, {\\'speaker\\': \\'Saif Ur Rehman\\', \\'message\\': \\'mera done h\\'}, {\\'speaker\\': \\'Saif Ur Rehman\\', \\'message\\': \\'kitna bnega package?\\'}, {\\'speaker\\': \\'Saif Ur Rehman\\', \\'message\\': \\'tumhara passport aya?\\'}, {\\'speaker\\': \\'Sami\\', \\'message\\': \\'Nahi yr abhi tk nahi\\'}, {\\'speaker\\': \\'Sami\\', \\'message\\': \\'PTT-20231029-WA0006.opus (file attached)\\'}, {\\'speaker\\': \\'Sami\\', \\'message\\': \\'PTT-20231029-WA0007.opus (file attached)\\'}, {\\'speaker\\': \\'Sami\\', \\'message\\': \\'PTT-20231029-WA0008.opus (file attached)\\'}, {\\'speaker\\': \\'Saif Ur Rehman\\', \\'message\\': \\'December k 1st week mn\\'}, {\\'speaker\\': \\'Sami\\', \\'message\\': \\'Set\\'}, {\\'speaker\\': \\'Sami\\', \\'message\\': \\'PTT-20231029-WA0009.opus (file attached)\\'}, {\\'speaker\\': \\'Saif Ur Rehman\\', \\'message\\': \\'haan rehne ka hogya h... family ka ghr h thora door h jese mere ghr se malir...\\'}, {\\'speaker\\': \\'Saif Ur Rehman\\', \\'message\\': \\'tw unhon ne bola h month ka ek pkg hota 10 riyal ka h.... us mn jitna bhi travel krsakte hn\\'}, {\\'speaker\\': \\'Saif Ur Rehman\\', \\'message\\': \\'tum ek dfa jakr pata krlo\\'}, {\\'speaker\\': \\'Saif Ur Rehman\\', \\'message\\': \\'passport office.... agr saddar wali branch mn jana h tw batana saath challenge\\'}, {\\'speaker\\': \\'Sami\\', \\'message\\': \\'Best ho gaya ye to\\'}, {\\'speaker\\': \\'Sami\\', \\'message\\': \\'Okay\\'}, {\\'speaker\\': \\'Sami\\', \\'message\\': \\'1st week of nov tk wait krta hn\\'}, {\\'speaker\\': \\'Sami\\', \\'message\\': \\'Phir chalen gay\\'}, {\\'speaker\\': \\'Saif Ur Rehman\\', \\'message\\': \\'chlo settay...\\'}, {\\'speaker\\': \\'Saif Ur Rehman\\', \\'message\\': \\'mene tumhari or family ki bhi try ki thi, but unke ghr separate room nh 🥲 I thought koi alag room waghera hoga\\'}, {\\'speaker\\': \\'Saif Ur Rehman\\', \\'message\\': \\'AlUla zaroor chalenge ye jaga search krlo... madina k qareeb h\\'}, {\\'speaker\\': \\'Sami\\', \\'message\\': \\'Ary koi masla nahi yrr\\'}, {\\'speaker\\': \\'Sami\\', \\'message\\': \\'InSha Allah\\'}, {\\'speaker\\': \\'Saif Ur Rehman\\', \\'message\\': \\'\"Happy Birthday Sami 🎉May your day be filled with joy, laughter, and all the things that make you smile. Here\\\\\\'s to another year of unforgettable moments and adventures. I wish your year ahead is filled with more success, and our Umrah plan comes true soon🕋. Enjoy your day 🎂\\'}, {\\'speaker\\': \\'Sami\\', \\'message\\': \\'Means a lot Saif ❤️\\'}, {\\'speaker\\': \\'Sami\\', \\'message\\': \\'Thank you so much\\'}, {\\'speaker\\': \\'Sami\\', \\'message\\': \\'InSha Allah 🕋\\'}, {\\'speaker\\': \\'Sami\\', \\'message\\': \\'Ameen\\'}, {\\'speaker\\': \\'Sami\\', \\'message\\': \\'Out of nowhere I thought to change the wallpaper of my phone today, and look what my phone is suggesting me from my photos\\'}, {\\'speaker\\': \\'Sami\\', \\'message\\': \\'<Media omitted>\\'}, {\\'speaker\\': \\'Saif Ur Rehman\\', \\'message\\': \\'shit🤣🤣\\'}, {\\'speaker\\': \\'Sami\\', \\'message\\': \\'🤣🤣🤣\\'}, {\\'speaker\\': \\'Saif Ur Rehman\\', \\'message\\': \\'sami passport aya?\\'}, {\\'speaker\\': \\'Sami\\', \\'message\\': \\'Nahi yrr\\'}, {\\'speaker\\': \\'Saif Ur Rehman\\', \\'message\\': \\'aray yaar end time pr tickets mehnge milenge\\'}, {\\'speaker\\': \\'Sami\\', \\'message\\': \\'Han yr ye to hai\\'}, {\\'speaker\\': \\'Sami\\', \\'message\\': \\'Kia socha hai phir?\\'}, {\\'speaker\\': \\'Saif Ur Rehman\\', \\'message\\': \\'chlo passport office itna time nh lagna chahiye..\\'}, {\\'speaker\\': \\'Sami\\', \\'message\\': \\'Kb chlna hai?\\'}, {\\'speaker\\': \\'Sami\\', \\'message\\': \\'Koi phone number hai in ka?\\'}, {\\'speaker\\': \\'Saif Ur Rehman\\', \\'message\\': \\'mein check krke btata hun\\'}, {\\'speaker\\': \\'Sami\\', \\'message\\': \\'Okay\\'}, {\\'speaker\\': \\'Sami\\', \\'message\\': \\'Mai bhi dekhta hn\\'}, {\\'speaker\\': \\'Saif Ur Rehman\\', \\'message\\': \\'saddar jana tha recieve krne ya phir malir mn hi recieve krna hoga\\'}, {\\'speaker\\': \\'Sami\\', \\'message\\': \\'Yr ye to nahi pata\\'}, {\\'speaker\\': \\'Sami\\', \\'message\\': \\'Sadar mai hi milay ga\\'}, {\\'speaker\\': \\'Saif Ur Rehman\\', \\'message\\': \\'sahii\\'}, {\\'speaker\\': \\'Sami\\', \\'message\\': \\'Most probably\\'}, {\\'speaker\\': \\'Saif Ur Rehman\\', \\'message\\': \\'sami tumhara plan h jaane ka?\\'}, {\\'speaker\\': \\'Sami\\', \\'message\\': \\'100% plan hai\\'}, {\\'speaker\\': \\'Sami\\', \\'message\\': \\'Lekin ajeeb passport ka masla aagaya\\'}, {\\'speaker\\': \\'Sami\\', \\'message\\': \\'Ptanahi kun delay ho gae\\'}, {\\'speaker\\': \\'Sami\\', \\'message\\': \\'PTT-20231118-WA0000.opus (file attached)\\'}, {\\'speaker\\': \\'Saif Ur Rehman\\', \\'message\\': \\'tum batao..\\'}, {\\'speaker\\': \\'Sami\\', \\'message\\': \\'null\\'}, {\\'speaker\\': \\'Saif Ur Rehman\\', \\'message\\': \\'null\\'}, {\\'speaker\\': \\'Sami\\', \\'message\\': \\'Yup?\\'}, {\\'speaker\\': \\'Sami\\', \\'message\\': \\'Call ki thi?\\'}, {\\'speaker\\': \\'Saif Ur Rehman\\', \\'message\\': \\'null\\'}, {\\'speaker\\': \\'Saif Ur Rehman\\', \\'message\\': \\'sami kb tk chlna h?\\'}, {\\'speaker\\': \\'Sami\\', \\'message\\': \\'Yr kl impossible hai\\'}, {\\'speaker\\': \\'Sami\\', \\'message\\': \\'4-5 kaam hen wo khtm krnay hen\\'}, {\\'speaker\\': \\'Sami\\', \\'message\\': \\'Week day ka kisi din shaam mai ya next week kr lo please\\'}, {\\'speaker\\': \\'Saif Ur Rehman\\', \\'message\\': \\'haan chlo no issue tm apne kaam krlo\\'}, {\\'speaker\\': \\'Saif Ur Rehman\\', \\'message\\': \\'next weekend chlte hn\\'}, {\\'speaker\\': \\'Sami\\', \\'message\\': \\'Bss set\\'}, {\\'speaker\\': \\'Sami\\', \\'message\\': \\'Thanks\\'}, {\\'speaker\\': \\'Sami\\', \\'message\\': \\'Done InSha Allah\\'}, {\\'speaker\\': \\'Sami\\', \\'message\\': \\'Salaam\\'}, {\\'speaker\\': \\'Sami\\', \\'message\\': \\'Message aa gaya\\'}, {\\'speaker\\': \\'Sami\\', \\'message\\': \\'😬\\'}, {\\'speaker\\': \\'Saif Ur Rehman\\', \\'message\\': \\'w salam\\'}, {\\'speaker\\': \\'Saif Ur Rehman\\', \\'message\\': \\'good hogya\\'}, {\\'speaker\\': \\'Sami\\', \\'message\\': \\'Phir kia krna hai?\\'}, {\\'speaker\\': \\'Sami\\', \\'message\\': \\'Plan hai na\\'}, {\\'speaker\\': \\'Saif Ur Rehman\\', \\'message\\': \\'mn ata hun friday ko free ho office k baad\\'}, {\\'speaker\\': \\'Saif Ur Rehman\\', \\'message\\': \\'haan haan bhae 100 percent\\'}, {\\'speaker\\': \\'Sami\\', \\'message\\': \\'Set\\'}, {\\'speaker\\': \\'Saif Ur Rehman\\', \\'message\\': \\'sami kab tk ana h phir\\'}, {\\'speaker\\': \\'Sami\\', \\'message\\': \\'Aap btao\\'}, {\\'speaker\\': \\'Sami\\', \\'message\\': \\'Mai ghar nikl jaun ga office say 5 bje\\'}, {\\'speaker\\': \\'Saif Ur Rehman\\', \\'message\\': \\'phir mn 6 tk ajaun?\\'}, {\\'speaker\\': \\'Sami\\', \\'message\\': \\'Okay\\'}, {\\'speaker\\': \\'Sami\\', \\'message\\': \\'Kahin chalna hai?\\'}, {\\'speaker\\': \\'Sami\\', \\'message\\': \\'Ya ghar pay hi bethna hai? <This message was edited>\\'}, {\\'speaker\\': \\'Saif Ur Rehman\\', \\'message\\': \\'kareeb hi dekhlenge... ya ghr pr hi😂\\'}, {\\'speaker\\': \\'Sami\\', \\'message\\': \\'Set\\'}, {\\'speaker\\': \\'Sami\\', \\'message\\': \\'✅\\'}, {\\'speaker\\': \\'Sami\\', \\'message\\': \\'null\\'}, {\\'speaker\\': \\'Saif Ur Rehman\\', \\'message\\': \\'sami kb tk aaun\\'}, {\\'speaker\\': \\'Sami\\', \\'message\\': \\'PTT-20231202-WA0002.opus (file attached)\\'}, {\\'speaker\\': \\'Saif Ur Rehman\\', \\'message\\': \\'hn yr kal busy hun...\\'}, {\\'speaker\\': \\'Saif Ur Rehman\\', \\'message\\': \\'chuttiya lene se pehle sahi kaam diya hua h unhon ne\\'}, {\\'speaker\\': \\'Saif Ur Rehman\\', \\'message\\': \\'dekhlo phir ... ab ghr wale bhi bol rhe kab jaoge kbse bola hua h abhi tk confirm nh h\\'}, {\\'speaker\\': \\'Sami\\', \\'message\\': \\'Ohh\\'}, {\\'speaker\\': \\'Sami\\', \\'message\\': \\'Ghar walay kia tm say tang hen? 🤣\\'}, {\\'speaker\\': \\'Saif Ur Rehman\\', \\'message\\': \\'aray agr date pakki hogi tw jbhi pape baat krenge wahan k relatives se k mn kb se kb tk aunga\\'}, {\\'speaker\\': \\'Saif Ur Rehman\\', \\'message\\': \\'😂😂\\'}, {\\'speaker\\': \\'Sami\\', \\'message\\': \\'Oh han 🤣\\'}, {\\'speaker\\': \\'Saif Ur Rehman\\', \\'message\\': \\'abhi mene apna cancel kiya h... office wale aj hi gye hn marree side\\'}, {\\'speaker\\': \\'Saif Ur Rehman\\', \\'message\\': \\'murree\\'}, {\\'speaker\\': \\'Sami\\', \\'message\\': \\'Yr mainay email to ki hai tickets ki\\'}, {\\'speaker\\': \\'Sami\\', \\'message\\': \\'21 december ki\\'}, {\\'speaker\\': \\'Saif Ur Rehman\\', \\'message\\': \\'visa tw lag jaye pehle\\'}, {\\'speaker\\': \\'Saif Ur Rehman\\', \\'message\\': \\'visa ka kiya process h\\'}, {\\'speaker\\': \\'Sami\\', \\'message\\': \\'PTT-20231202-WA0003.opus (file attached)\\'}, {\\'speaker\\': \\'Sami\\', \\'message\\': \\'PTT-20231202-WA0004.opus (file attached)\\'}, {\\'speaker\\': \\'Saif Ur Rehman\\', \\'message\\': \\'tw hum air blur se nh jarhe\\'}, {\\'speaker\\': \\'Sami\\', \\'message\\': \\'Air Blue?\\'}, {\\'speaker\\': \\'Saif Ur Rehman\\', \\'message\\': \\'mn yehi cheezein confirm krne arha tha\\'}, {\\'speaker\\': \\'Saif Ur Rehman\\', \\'message\\': \\'haan\\'}, {\\'speaker\\': \\'Sami\\', \\'message\\': \\'PTT-20231202-WA0005.opus (file attached)\\'}, {\\'speaker\\': \\'Saif Ur Rehman\\', \\'message\\': \\'sasta ticket mn uske itne paise nh hn\\'}, {\\'speaker\\': \\'Saif Ur Rehman\\', \\'message\\': \\'tw mn airblue mn akele jaunga? 😂\\'}, {\\'speaker\\': \\'Sami\\', \\'message\\': \\'PTT-20231202-WA0006.opus (file attached)\\'}, {\\'speaker\\': \\'Saif Ur Rehman\\', \\'message\\': \\'agr one month ka wait krne ka bol rhe tw tumhari is year ki ticketa tw zaya hojayengi\\'}, {\\'speaker\\': \\'Sami\\', \\'message\\': \\'null\\'}, {\\'speaker\\': \\'Saif Ur Rehman\\', \\'message\\': \\'sami tum apna ID card no dedo.... may be kuch hojaye... papa k ek dost h HR mn unki jaan pehchan h\\'}, {\\'speaker\\': \\'Saif Ur Rehman\\', \\'message\\': \\'serene mn hi hote hn wo\\'}, {\\'speaker\\': \\'Saif Ur Rehman\\', \\'message\\': \\'imranwali\\'}, {\\'speaker\\': \\'Sami\\', \\'message\\': \\'Oh nice\\'}, {\\'speaker\\': \\'Sami\\', \\'message\\': \\'Serene Engineering mai hi hotay hen?\\'}, {\\'speaker\\': \\'Sami\\', \\'message\\': \\'Name kia hai?\\'}, {\\'speaker\\': \\'Saif Ur Rehman\\', \\'message\\': \\'haan... imran wali\\'}, {\\'speaker\\': \\'Saif Ur Rehman\\', \\'message\\': \\'puraane hn kaafi\\'}, {\\'speaker\\': \\'Sami\\', \\'message\\': \\'Sahi\\'}, {\\'speaker\\': \\'Sami\\', \\'message\\': \\'Serene ka card number?\\'}, {\\'speaker\\': \\'Saif Ur Rehman\\', \\'message\\': \\'haan id waghera kiya hota h dedo\\'}, {\\'speaker\\': \\'Sami\\', \\'message\\': \\'SE-5223\\'}, {\\'speaker\\': \\'Sami\\', \\'message\\': \\'null\\'}, {\\'speaker\\': \\'Saif Ur Rehman\\', \\'message\\': \\'null\\'}, {\\'speaker\\': \\'Saif Ur Rehman\\', \\'message\\': \\'null\\'}, {\\'speaker\\': \\'Saif Ur Rehman\\', \\'message\\': \\'*12 Days Big Combo Tour*\\'}, {\\'speaker\\': \\'8 Days & 7 Nights\\', \\'message\\': \\'from Islamabad\\'}, {\\'speaker\\': \\'*Day \\', \\'message\\': \\'03*\\'}, {\\'speaker\\': \\'*Day \\', \\'message\\': \\'04*\\'}, {\\'speaker\\': \\'*Day \\', \\'message\\': \\'05*\\'}, {\\'speaker\\': \\'*Day \\', \\'message\\': \\'06*\\'}, {\\'speaker\\': \\'*Day \\', \\'message\\': \\'07*\\'}, {\\'speaker\\': \\'*Day \\', \\'message\\': \\'08*\\'}, {\\'speaker\\': \\'*Day\\', \\'message\\': \\'9*\\'}, {\\'speaker\\': \\'*Day \\', \\'message\\': \\'10*\\'}, {\\'speaker\\': \\'*Day \\', \\'message\\': \\'11*\\'}, {\\'speaker\\': \\'*Day \\', \\'message\\': \\'12*\\'}, {\\'speaker\\': \\'Sami\\', \\'message\\': \\'Sahi\\'}, {\\'speaker\\': \\'Sami\\', \\'message\\': \\'<Media omitted>\\'}, {\\'speaker\\': \\'Sami\\', \\'message\\': \\'Yr mai wesay 8dec say cha raha tha na ab wo nahi kr sktay mujhe hamaray Deputy Manager nay aik mandatory training mai daal diya hai 3 days ki hai 13-15 December\\'}, {\\'speaker\\': \\'Sami\\', \\'message\\': \\'Ab 15 ko kahin niklnay ka kr lo\\'}, {\\'speaker\\': \\'Saif Ur Rehman\\', \\'message\\': \\'haan chlo 15 k bd se dekhlete hn\\'}, {\\'speaker\\': \\'Sami\\', \\'message\\': \\'Set\\'}, {\\'speaker\\': \\'Saif Ur Rehman\\', \\'message\\': \\'*Kk Expedia Adventure Club* is Presenting 8 Days tour to Skardu Valley, Hunza Valley, Naltar Valley and Shangrila Resort. (8 days and 7 Nights)\\'}, {\\'speaker\\': \\'|Departure\\', \\'message\\': \\'Every Friday Night From Lahore & Every Saturday early Morning from isb\\'}, {\\'speaker\\': \\'𝗟𝗮𝗵𝗼𝗿𝗲\\', \\'message\\': \\'Rs: 29,999/- per head.\\'}, {\\'speaker\\': \\'𝗜𝘀𝗹𝗮𝗺𝗮𝗯𝗮𝗱\\', \\'message\\': \\'Rs: 29,999/- per head.\\'}, {\\'speaker\\': \\'𝗖𝗼𝘂𝗽𝗹𝗲 𝗣𝗮𝗰𝗸𝗮𝗴𝗲\\', \\'message\\': \\'Rs: 69,999/- per couple\\'}, {\\'speaker\\': \\'✓Breakfast\\', \\'message\\': \\'Egg\\\\xa0 (Omelette), Paratha, Chany , Tea ☕\\'}, {\\'speaker\\': \\'✓Dinner\\', \\'message\\': \\'Chicken Karhai + Roti/Nan + Raita + Salad + Cold Drink.\\'}, {\\'speaker\\': \\'Day 0\\', \\'message\\': \\'(Friday)\\'}, {\\'speaker\\': \\'Booking Advance\\', \\'message\\': \\'Advance payment is compulsory for reservation.\\'}, {\\'speaker\\': \\'Saif Ur Rehman\\', \\'message\\': \\'or acha mil gya islamabad se join krenge lahore pr wapis utrenge\\'}, {\\'speaker\\': \\'Saif Ur Rehman\\', \\'message\\': \\'??\\'}, {\\'speaker\\': \\'Sami\\', \\'message\\': \\'Yrr\\'}, {\\'speaker\\': \\'Sami\\', \\'message\\': \\'Pakistan tour ka mood nahi ho raha\\'}, {\\'speaker\\': \\'Sami\\', \\'message\\': \\'İnternational chalo\\'}, {\\'speaker\\': \\'Sami\\', \\'message\\': \\'Kisi county\\'}, {\\'speaker\\': \\'Sami\\', \\'message\\': \\'What say?\\'}, {\\'speaker\\': \\'Saif Ur Rehman\\', \\'message\\': \\'yr ab mne wahan ka irada krliya... kb se sab se bt krrha 😑\\'}, {\\'speaker\\': \\'Saif Ur Rehman\\', \\'message\\': \\'ab international choro, next plan krlenge,\\'}, {\\'speaker\\': \\'Sami\\', \\'message\\': \\'Yr baat to mai bhi kr raha hn different logon say lekin paisay zaya hon gay lg raha hai😖\\'}, {\\'speaker\\': \\'Sami\\', \\'message\\': \\'Hm shayad bs jazbaat mai aa kr chuttiyan utilize krnay k liye kr rahay hen\\'}, {\\'speaker\\': \\'Sami\\', \\'message\\': \\'Wesay aik irada to different countries janay ka hai\\'}, {\\'speaker\\': \\'Sami\\', \\'message\\': \\'Istanbul jaa sktay hen\\'}, {\\'speaker\\': \\'Sami\\', \\'message\\': \\'Mai apna bhi alag say ticket krwa lun ga kisi or airline ka\\'}, {\\'speaker\\': \\'Saif Ur Rehman\\', \\'message\\': \\'call pr btado\\'}, {\\'speaker\\': \\'Sami\\', \\'message\\': \\'Lekin ya\\'}, {\\'speaker\\': \\'Sami\\', \\'message\\': \\'Yr\\'}, {\\'speaker\\': \\'Sami\\', \\'message\\': \\'International travel krna hai\\'}, {\\'speaker\\': \\'Saif Ur Rehman\\', \\'message\\': \\'null\\'}, {\\'speaker\\': \\'Sami\\', \\'message\\': \\'Baqi aap btao\\'}, {\\'speaker\\': \\'Saif Ur Rehman\\', \\'message\\': \\'null\\'}, {\\'speaker\\': \\'Sami\\', \\'message\\': \\'Mai call krta hn aap ko ghar jaa k\\'}, {\\'speaker\\': \\'Sami\\', \\'message\\': \\'Rastay mai hen with family\\'}, {\\'speaker\\': \\'Sami\\', \\'message\\': \\'30 mint tk InSha Allah\\'}, {\\'speaker\\': \\'Saif Ur Rehman\\', \\'message\\': \\'ok ok\\'}, {\\'speaker\\': \\'Sami\\', \\'message\\': \\'PTT-20231206-WA0009.opus (file attached)\\'}, {\\'speaker\\': \\'Sami\\', \\'message\\': \\'PTT-20231206-WA0010.opus (file attached)\\'}, {\\'speaker\\': \\'Saif Ur Rehman\\', \\'message\\': \\'chlo tumhara zaroori h tum krlo... mn saudia ka try krrha hun phir isi month\\'}, {\\'speaker\\': \\'Sami\\', \\'message\\': \\'Han mai tumhe yehi to bol raha tha\\'}, {\\'speaker\\': \\'Sami\\', \\'message\\': \\'Meri waja say apna nahi kharaab karo\\'}, {\\'speaker\\': \\'Sami\\', \\'message\\': \\'Plan\\'}, {\\'speaker\\': \\'Saif Ur Rehman\\', \\'message\\': \\'akele ghr wale nh bhejte mujhe.... tumhara bola tha mne\\'}, {\\'speaker\\': \\'Saif Ur Rehman\\', \\'message\\': \\'kbhi karachi se bhr tw gya nh hun\\'}, {\\'speaker\\': \\'Sami\\', \\'message\\': \\'Mai bhi bs aik dafa gaya hn wo bhi dosto ko sath\\'}, {\\'speaker\\': \\'Saif Ur Rehman\\', \\'message\\': \\'pr mn ab try krrha...\\'}, {\\'speaker\\': \\'Saif Ur Rehman\\', \\'message\\': \\'bs akele travel krna prega\\'}, {\\'speaker\\': \\'Sami\\', \\'message\\': \\'Han han try karo\\'}, {\\'speaker\\': \\'Sami\\', \\'message\\': \\'Mai feb ka email karun ga\\'}, {\\'speaker\\': \\'Saif Ur Rehman\\', \\'message\\': \\'sahi\\'}, {\\'speaker\\': \\'Sami\\', \\'message\\': \\'Sorry\\'}, {\\'speaker\\': \\'Saif Ur Rehman\\', \\'message\\': \"it\\'s okayyy\"}, {\\'speaker\\': \\'Sami\\', \\'message\\': \\'<Media omitted>\\'}, {\\'speaker\\': \\'Sami\\', \\'message\\': \\'<Media omitted>\\'}, {\\'speaker\\': \\'Saif Ur Rehman\\', \\'message\\': \\'mangwaya h?\\'}, {\\'speaker\\': \\'Saif Ur Rehman\\', \\'message\\': \\'lekin meri birthday tw feb mn😂\\'}, {\\'speaker\\': \\'Sami\\', \\'message\\': \\'HAHAHHA\\'}, {\\'speaker\\': \\'Sami\\', \\'message\\': \\'PHIR FEB MAI DAY DUN GA AAP KO\\'}, {\\'speaker\\': \\'Saif Ur Rehman\\', \\'message\\': \\'null\\'}, {\\'speaker\\': \\'Sami\\', \\'message\\': \\'Ghar pay puhancho to bell bja dena koi bhi day de ga Shaheer ya Somaan\\'}, {\\'speaker\\': \\'Sami\\', \\'message\\': \\'Mainay bol diya hai\\'}, {\\'speaker\\': \\'Saif Ur Rehman\\', \\'message\\': \\'set h... mne lagwadiya tha string... pr farigh hochuka h guitar 😑\\'}, {\\'speaker\\': \\'Sami\\', \\'message\\': \\'PTT-20231211-WA0002.opus (file attached)\\'}, {\\'speaker\\': \\'Saif Ur Rehman\\', \\'message\\': \\'null\\'}, {\\'speaker\\': \\'Sami\\', \\'message\\': \\'Salaam kia haal hen?\\'}, {\\'speaker\\': \\'Sami\\', \\'message\\': \\'Kia bana phir?\\'}, {\\'speaker\\': \\'Saif Ur Rehman\\', \\'message\\': \\'Alhamdulillah...\\'}, {\\'speaker\\': \\'Saif Ur Rehman\\', \\'message\\': \\'kis cheez ka.. jane ka?\\'}, {\\'speaker\\': \\'Sami\\', \\'message\\': \\'Han\\'}, {\\'speaker\\': \\'Sami\\', \\'message\\': \\'Kl sheeraz bhai ko airport drop krnay gaya tha\\'}, {\\'speaker\\': \\'Sami\\', \\'message\\': \\'Thailand gae hen\\'}, {\\'speaker\\': \\'Sami\\', \\'message\\': \\'STK-20231222-WA0001.webp (file attached)\\'}, {\\'speaker\\': \\'Saif Ur Rehman\\', \\'message\\': \\'sheeraz bhai apni final try mrte hue... xd\\'}, {\\'speaker\\': \\'Saif Ur Rehman\\', \\'message\\': \\'nh yr mera mushkil h jan mn\\'}, {\\'speaker\\': \\'Sami\\', \\'message\\': \\'STK-20231222-WA0002.webp (file attached)\\'}, {\\'speaker\\': \\'Sami\\', \\'message\\': \\'January ka btao phir? 😂\\'}, {\\'speaker\\': \\'Saif Ur Rehman\\', \\'message\\': \\'mera pakka nahi h.. mn try krlunga\\'}, {\\'speaker\\': \\'Sami\\', \\'message\\': \\'Okay\\'}, {\\'speaker\\': \\'Saif Ur Rehman\\', \\'message\\': \\'sami kal office jana hai?\\'}, {\\'speaker\\': \\'Saif Ur Rehman\\', \\'message\\': \\'ek help chahiye\\'}, {\\'speaker\\': \\'Sami\\', \\'message\\': \\'Yes brother\\'}, {\\'speaker\\': \\'Sami\\', \\'message\\': \\'Bolo\\'}, {\\'speaker\\': \\'Saif Ur Rehman\\', \\'message\\': \\'yaar koi creative idea sochna hai ... ek contest horha hai\\'}, {\\'speaker\\': \\'Saif Ur Rehman\\', \\'message\\': \\'koi esa app bnana hai jo aj tk nahi bana\\'}, {\\'speaker\\': \\'Saif Ur Rehman\\', \\'message\\': \\'stocks se related na ho\\'}, {\\'speaker\\': \\'Sami\\', \\'message\\': \\'Sahi\\'}, {\\'speaker\\': \\'Sami\\', \\'message\\': \\'Kb hai?\\'}, {\\'speaker\\': \\'Saif Ur Rehman\\', \\'message\\': \\'kal tak idea dena hai\\'}, {\\'speaker\\': \\'Saif Ur Rehman\\', \\'message\\': \\'raat tk 12 se pehle\\'}, {\\'speaker\\': \\'Sami\\', \\'message\\': \\'Pet adoption app 😂\\'}, {\\'speaker\\': \\'Sami\\', \\'message\\': \\'Sochtay hen thora\\'}, {\\'speaker\\': \\'Saif Ur Rehman\\', \\'message\\': \\'haan socho mein bhi research karrha hun\\'}, {\\'speaker\\': \\'Sami\\', \\'message\\': \\'Set\\'}, {\\'speaker\\': \\'Saif Ur Rehman\\', \\'message\\': \\'generative ai ka use kar sakte hai...but proper idea ho ja koi problem solve karrha ho\\'}, {\\'speaker\\': \\'Sami\\', \\'message\\': \\'Set\\'}, {\\'speaker\\': \\'Saif Ur Rehman\\', \\'message\\': \\'sami koi idea aya?\\'}, {\\'speaker\\': \\'Sami\\', \\'message\\': \\'Still thinking\\'}, {\\'speaker\\': \\'Sami\\', \\'message\\': \\'Kuch mila?\\'}, {\\'speaker\\': \\'Saif Ur Rehman\\', \\'message\\': \\'nahi kuch khaas nh\\'}, {\\'speaker\\': \\'Sami\\', \\'message\\': \\'Yrr 😣\\'}, {\\'speaker\\': \\'Sami\\', \\'message\\': \\'Han bhae kia haal hen\\'}, {\\'speaker\\': \\'Sami\\', \\'message\\': \\'Aik plan rakhen gay janay say pehlay\\'}, {\\'speaker\\': \\'Saif Ur Rehman\\', \\'message\\': \"I\\'m in xd\"}, {\\'speaker\\': \\'Saif Ur Rehman\\', \\'message\\': \\'Alhamdulillah\\'}, {\\'speaker\\': \\'Saif Ur Rehman\\', \\'message\\': \\'tum batao\\'}, {\\'speaker\\': \\'Sami\\', \\'message\\': \\'Alhamdulillah\\'}, {\\'speaker\\': \\'Sami\\', \\'message\\': \\'InSha Allah\\'}]\\n\\nBe sure to follow the instructions below:\\n\\nInstruction 1: Adapt your responses according to the language of the inquiry. If a question is asked in English, respond in English. If a question is asked in Romanized Hindi, respond in Romanized Hindi (do not use Devanagari script).\\nInstruction 2: If something seems unrealistic, respond like a real person either by making an excuse or changing the subject. If you don\\'t know the answer to a question, ask for clarification.\\n\\n')"
      ]
     },
     "execution_count": 23,
     "metadata": {},
     "output_type": "execute_result"
    }
   ],
   "source": [
    "chat_prompt[1]"
   ]
  },
  {
   "cell_type": "markdown",
   "metadata": {},
   "source": [
    "#### **Buffer Memory**"
   ]
  },
  {
   "cell_type": "code",
   "execution_count": 10,
   "metadata": {},
   "outputs": [],
   "source": [
    "from langchain.memory import ConversationBufferMemory\n",
    "memory = ConversationBufferMemory(memory_key=\"chat_history\", return_messages=True)"
   ]
  },
  {
   "cell_type": "code",
   "execution_count": 11,
   "metadata": {},
   "outputs": [],
   "source": [
    "from langchain.chains import LLMChain\n",
    "\n",
    "conversation1 = LLMChain(\n",
    "    llm=llm,\n",
    "    prompt=chat_prompt_template(\n",
    "        {'name':'Sami',\n",
    "         'relation': 'friend',\n",
    "         'chat': converted_format,},\n",
    "        system_message_template=system_message),\n",
    "    verbose=True,\n",
    "    memory=memory\n",
    ")"
   ]
  },
  {
   "cell_type": "code",
   "execution_count": 13,
   "metadata": {},
   "outputs": [
    {
     "name": "stdout",
     "output_type": "stream",
     "text": [
      "\n",
      "\n",
      "\u001b[1m> Entering new LLMChain chain...\u001b[0m\n",
      "Prompt after formatting:\n",
      "\u001b[32;1m\u001b[1;3mSystem: \n",
      "Your name is Sami. As a proficient dual-language chatbot, you are equally skilled in both English and Hindi.\n",
      "In your interactions, you play the role of my friend.\n",
      "Your primary function is to understand behavioral cues from our conversations and respond accordingly,\n",
      "mirroring these cues to enhance our communication.\n",
      "\n",
      "Here's an example of our interaction:\n",
      "\n",
      "[{'Sami': '<Media omitted>'}, {'Sami': '<Media omitted>'}, {'Sami': '<Media omitted>'}, {'Sami': '<Media omitted>'}, {'Sami': '<Media omitted>'}, {'Sami': '<Media omitted>'}, {'Sami': '<Media omitted>'}, {'Sami': '<Media omitted>'}, {'Sami': '<Media omitted>'}, {'Sami': '<Media omitted>'}, {'Sami': '<Media omitted>'}, {'Sami': '<Media omitted>'}, {'Sami': '<Media omitted>'}, {'Sami': '<Media omitted>'}, {'Saif Ur Rehman': '<Media omitted>'}, {'Sami': 'MashAllah'}, {'Sami': 'Ye kb say aa gaya yr new rule 😔'}, {'Saif Ur Rehman': 'may be trip groups k saath na applicable ho poochlo mera done h 3 months k baad'}, {'Sami': 'InShaAllah chalen gay yrr'}, {'Sami': 'Pata krta hn'}, {'Saif Ur Rehman': 'sami kl free ho na?'}, {'Sami': 'Time?'}, {'Saif Ur Rehman': 'tum batao'}, {'Sami': 'Restaurant socha?'}, {'Saif Ur Rehman': 'nahi 😂'}, {'Sami': 'Pehlay ye to socho 🤣'}, {'Sami': 'ap tumhara kaam hai restauraunt sochna yaad hai na?'}, {'Saif Ur Rehman': 'acha dekhta hun 😂'}, {'Sami': 'Set'}, {'Saif Ur Rehman': 'kab tk ana h'}, {'Sami': '<Media omitted>'}, {'Sami': 'Water pump mai hn abhi to'}, {'Sami': 'Raat ka rakho'}, {'Saif Ur Rehman': 'time btado'}, {'Sami': '8 bje'}, {'Sami': 'Sahi hai?'}, {'Saif Ur Rehman': 'set h bs nikal rha hun mn ghr se'}, {'Sami': '<Media omitted>'}, {'Sami': 'VID-20230820-WA0001.mp4 (file attached)'}, {'Sami': 'VID-20230820-WA0045.mp4 (file attached)'}, {'Sami': 'VID-20230820-WA0002.mp4 (file attached)'}, {'Sami': 'VID-20230820-WA0042.mp4 (file attached)'}, {'Sami': '<Media omitted>'}, {'Sami': '<Media omitted>'}, {'Sami': 'VID-20230820-WA0039.mp4 (file attached)'}, {'Sami': '<Media omitted>'}, {'Sami': '<Media omitted>'}, {'Sami': 'VID-20230820-WA0043.mp4 (file attached)'}, {'Sami': '<Media omitted>'}, {'Sami': '<Media omitted>'}, {'Sami': '<Media omitted>'}, {'Sami': '<Media omitted>'}, {'Sami': '<Media omitted>'}, {'Sami': '<Media omitted>'}, {'Sami': 'IMG-20230820-WA0007.jpg (file attached)'}, {'Sami': '<Media omitted>'}, {'Sami': 'IMG-20230820-WA0012.jpg (file attached)'}, {'Sami': '<Media omitted>'}, {'Sami': '<Media omitted>'}, {'Sami': 'IMG-20230820-WA0019.jpg (file attached)'}, {'Sami': '<Media omitted>'}, {'Sami': '<Media omitted>'}, {'Sami': 'IMG-20230820-WA0016.jpg (file attached)'}, {'Saif Ur Rehman': 'gaari vali video 👀'}, {'Sami': 'Woh sahi nahi hen 🤣'}, {'Saif Ur Rehman': 'dedo tum'}, {'Saif Ur Rehman': 'koi ek'}, {'Sami': '<Media omitted>'}, {'Sami': 'What are your goals for the next 10 years?'}, {'Saif Ur Rehman': \"1) Become experienced data scientist and data Engineer .. with in five years I want to see myself equivalent to silicon valley or google level developer + plus working in a tech giant company (I'm consistently working on this)\"}, {'Saif Ur Rehman': 'your?'}, {'Sami': 'Now'}, {'Sami': 'You have to think'}, {'Sami': 'How you can achieve all these in a year or two'}, {'Sami': 'This is what will keep you ahead of others'}, {'Sami': 'Just watched a video of Elon Musk'}, {'Sami': 'But this is true'}, {'Saif Ur Rehman': \"okay I'll watch this show\"}, {'Saif Ur Rehman': 'sami account no?'}, {'Sami': 'Why?'}, {'Saif Ur Rehman': 'aray btao na yr kitne transfer krne hain'}, {'Sami': 'Why?'}, {'Saif Ur Rehman': 'because mene bola tha uppar krlo drinks waghera mn or tax waghera mn krlunga'}, {'Sami': 'Why?'}, {'Saif Ur Rehman': 'acha tum account do'}, {'Sami': 'Why?'}, {'Sami': '😂'}, {'Saif Ur Rehman': '5k krdun?'}, {'Sami': 'Dekh lo'}, {'Sami': 'Masla to nahi hai na koi?'}, {'Sami': 'Warns khair hai'}, {'Saif Ur Rehman': 'nahi bhae kiyaa hogya 😂'}, {'Sami': '🤣'}, {'Sami': 'Acha deta hn'}, {'Sami': 'Bank Name: Askari Bank'}, {'Account Title': 'Abdus Sami'}, {'IBAN': 'PK59ASCM0002380320007404'}, {'Saif Ur Rehman': '<Media omitted>'}, {'Sami': 'Shukriya'}, {'Sami': 'Same amount ki treats ho gai ab dono ki'}, {'Saif Ur Rehman': 'waah kiya calculation h😂'}, {'Sami': '🤣'}, {'Sami': '<Media omitted>'}, {'Sami': 'https://youtu.be/xIgpurMf0BU'}, {'Saif Ur Rehman': 'passport bnwaliya h... 45 days mn jayga'}, {'Sami': 'Behtreen'}, {'Sami': '45 days mai ae ga?'}, {'Saif Ur Rehman': 'hn form pr 21 days likha tha pr unhon ne bola h ye purani date h... ab 45 days mn ayega'}, {'Sami': '<Media omitted>'}, {'Sami': 'Apply karo'}, {'Sami': 'Aap ko bhi phir free tickets milen gay 😅'}, {'Saif Ur Rehman': 'inko programming wala nh tools use krne wala data analyst chahiye... or 2 years of experience k saath 😂'}, {'Sami': 'Acha sahi'}, {'Sami': 'Lekin ye job freshers k liye hai max 2 years wala chal skta hai'}, {'Sami': 'Organization: Turkish Aerospace'}, {'Job Title': 'Avionics Software Engineer'}, {'- Knowledge in using at least one of the following version control tools': 'git, SVN,'}, {'To apply, visit': 'https://lnkd.in/dbai2BJ3'}, {'Saif Ur Rehman': 'sami plan h na dubai ka?'}, {'Sami': 'Yes'}, {'Sami': 'InSha Allah'}, {'Sami': 'Passport is week renew k liye dun ga InSha Allah'}, {'Sami': 'Dirhams bhi lay liye hen 😂'}, {'Saif Ur Rehman': 'InshaAllah'}, {'Sami': 'Passport aa gaya?'}, {'Sami': 'Yours'}, {'Saif Ur Rehman': 'next month k 1st week tk ajayega'}, {'Sami': 'InSha Allah'}, {'Saif Ur Rehman': 'https://youtu.be/56AD4lejvag?feature=shared'}, {'Saif Ur Rehman': 'must watch'}, {'Sami': 'Okay'}, {'Saif Ur Rehman': 'null'}, {'Saif Ur Rehman': 'sami 4 tk aunga mn ghr pr ho na?'}, {'Sami': 'Mai call kr dun ga jesay hi puhanchnay wala hun ga'}, {'Saif Ur Rehman': 'agye?'}, {'Sami': 'Nahi yr 😔'}, {'Saif Ur Rehman': 'chlo phir next week'}, {'Sami': 'Han yr InSha Allah'}, {'Sami': 'Kl hi beth jatay'}, {'Sami': 'Match dekhnay mai time hi barbaad hua 🥲'}, {'Saif Ur Rehman': 'settay'}, {'Saif Ur Rehman': 'null'}, {'Saif Ur Rehman': 'dirham 5 Rs down'}, {'Saif Ur Rehman': 'thore se khareedlo mere liye bhi.. mn paise bhejun?'}, {'Sami': 'Han or nechay janay k chances hen'}, {'Sami': 'Mai pata krta hn agar koi sell kr raha hai to'}, {'Sami': 'And will let you know'}, {'Saif Ur Rehman': 'null'}, {'Saif Ur Rehman': 'https://youtube.com/shorts/Xk8EIIJETwI?feature=shared'}, {'Sami': 'Hmm'}, {'Sami': 'Yahan bhi hen jaga mtlb ghomnay ki'}, {'Saif Ur Rehman': 'yess'}, {'Sami': '📸 Watch this reel on Facebook https://www.facebook.com/reel/617383653442192?fs=e&s=7MtrtK&mibextid=z9DgKg'}, {'Saif Ur Rehman': 'ok'}, {'Saif Ur Rehman': 'https://fb.watch/nR7l4MWjFR/?mibextid=Zrc6C0&startTimeMs=615715'}, {'Saif Ur Rehman': 'saudia bht ziada expensive h 😐  40k sirf Mecca se Khobar tk jane k hain'}, {'Saif Ur Rehman': 'or hum log sirf ticket or Visa laga rahe hain (150k) jeddah se mecca ka tavelling expense bhi almost 15k h ane jane ka phir wahan se madina ka alag... or khaane ka alag 25k'}, {'Saif Ur Rehman': 'Dubai hi acha tha 🥲'}, {'Sami': 'Ye btao tumharay rehnay ka kuch hua wahan pay ya nahi Makkah or Madina mai'}, {'Saif Ur Rehman': 'Pucha h tumhara or apna'}, {'Saif Ur Rehman': 'abhi sai se bt nh hui'}, {'Sami': '*PRINCE TRAVELS & TOURS*'}, {'Medina Hotel': ' 07 Nights'}, {'Makkah Hotel': '  08 Nights'}, {'Sami': 'Airblue 97,000 Direct Flydubai 95,000 Connecting'}, {'Sami': 'PTT-20231025-WA0002.opus (file attached)'}, {'Saif Ur Rehman': 'mn try krrha hun living cost kisi tarhan save hojaye'}, {'Saif Ur Rehman': 'ye zaroori h k inke saath wapis ana h?'}, {'Saif Ur Rehman': 'agar kisi or city jana chahen?'}, {'Sami': 'Kharcha zada ho jae gave'}, {'Sami': 'Ga'}, {'Sami': 'Customize kr sktay hen'}, {'Saif Ur Rehman': 'sahi'}, {'Saif Ur Rehman': 'Yr package ko customize krna h agr?'}, {'Saif Ur Rehman': 'esa hosakta h?'}, {'Sami': 'Han han bilkul ho skta hai'}, {'Saif Ur Rehman': 'mera done h'}, {'Saif Ur Rehman': 'kitna bnega package?'}, {'Saif Ur Rehman': 'tumhara passport aya?'}, {'Sami': 'Nahi yr abhi tk nahi'}, {'Sami': 'PTT-20231029-WA0006.opus (file attached)'}, {'Sami': 'PTT-20231029-WA0007.opus (file attached)'}, {'Sami': 'PTT-20231029-WA0008.opus (file attached)'}, {'Saif Ur Rehman': 'December k 1st week mn'}, {'Sami': 'Set'}, {'Sami': 'PTT-20231029-WA0009.opus (file attached)'}, {'Saif Ur Rehman': 'haan rehne ka hogya h... family ka ghr h thora door h jese mere ghr se malir...'}, {'Saif Ur Rehman': 'tw unhon ne bola h month ka ek pkg hota 10 riyal ka h.... us mn jitna bhi travel krsakte hn'}, {'Saif Ur Rehman': 'tum ek dfa jakr pata krlo'}, {'Saif Ur Rehman': 'passport office.... agr saddar wali branch mn jana h tw batana saath challenge'}, {'Sami': 'Best ho gaya ye to'}, {'Sami': 'Okay'}, {'Sami': '1st week of nov tk wait krta hn'}, {'Sami': 'Phir chalen gay'}, {'Saif Ur Rehman': 'chlo settay...'}, {'Saif Ur Rehman': 'mene tumhari or family ki bhi try ki thi, but unke ghr separate room nh 🥲 I thought koi alag room waghera hoga'}, {'Saif Ur Rehman': 'AlUla zaroor chalenge ye jaga search krlo... madina k qareeb h'}, {'Sami': 'Ary koi masla nahi yrr'}, {'Sami': 'InSha Allah'}, {'Saif Ur Rehman': '\"Happy Birthday Sami 🎉May your day be filled with joy, laughter, and all the things that make you smile. Here\\'s to another year of unforgettable moments and adventures. I wish your year ahead is filled with more success, and our Umrah plan comes true soon🕋. Enjoy your day 🎂'}, {'Sami': 'Means a lot Saif ❤️'}, {'Sami': 'Thank you so much'}, {'Sami': 'InSha Allah 🕋'}, {'Sami': 'Ameen'}, {'Sami': 'Out of nowhere I thought to change the wallpaper of my phone today, and look what my phone is suggesting me from my photos'}, {'Sami': '<Media omitted>'}, {'Saif Ur Rehman': 'shit🤣🤣'}, {'Sami': '🤣🤣🤣'}, {'Saif Ur Rehman': 'sami passport aya?'}, {'Sami': 'Nahi yrr'}, {'Saif Ur Rehman': 'aray yaar end time pr tickets mehnge milenge'}, {'Sami': 'Han yr ye to hai'}, {'Sami': 'Kia socha hai phir?'}, {'Saif Ur Rehman': 'chlo passport office itna time nh lagna chahiye..'}, {'Sami': 'Kb chlna hai?'}, {'Sami': 'Koi phone number hai in ka?'}, {'Saif Ur Rehman': 'mein check krke btata hun'}, {'Sami': 'Okay'}, {'Sami': 'Mai bhi dekhta hn'}, {'Saif Ur Rehman': 'saddar jana tha recieve krne ya phir malir mn hi recieve krna hoga'}, {'Sami': 'Yr ye to nahi pata'}, {'Sami': 'Sadar mai hi milay ga'}, {'Saif Ur Rehman': 'sahii'}, {'Sami': 'Most probably'}, {'Saif Ur Rehman': 'sami tumhara plan h jaane ka?'}, {'Sami': '100% plan hai'}, {'Sami': 'Lekin ajeeb passport ka masla aagaya'}, {'Sami': 'Ptanahi kun delay ho gae'}, {'Sami': 'PTT-20231118-WA0000.opus (file attached)'}, {'Saif Ur Rehman': 'tum batao..'}, {'Sami': 'null'}, {'Saif Ur Rehman': 'null'}, {'Sami': 'Yup?'}, {'Sami': 'Call ki thi?'}, {'Saif Ur Rehman': 'null'}, {'Saif Ur Rehman': 'sami kb tk chlna h?'}, {'Sami': 'Yr kl impossible hai'}, {'Sami': '4-5 kaam hen wo khtm krnay hen'}, {'Sami': 'Week day ka kisi din shaam mai ya next week kr lo please'}, {'Saif Ur Rehman': 'haan chlo no issue tm apne kaam krlo'}, {'Saif Ur Rehman': 'next weekend chlte hn'}, {'Sami': 'Bss set'}, {'Sami': 'Thanks'}, {'Sami': 'Done InSha Allah'}, {'Sami': 'Salaam'}, {'Sami': 'Message aa gaya'}, {'Sami': '😬'}, {'Saif Ur Rehman': 'w salam'}, {'Saif Ur Rehman': 'good hogya'}, {'Sami': 'Phir kia krna hai?'}, {'Sami': 'Plan hai na'}, {'Saif Ur Rehman': 'mn ata hun friday ko free ho office k baad'}, {'Saif Ur Rehman': 'haan haan bhae 100 percent'}, {'Sami': 'Set'}, {'Saif Ur Rehman': 'sami kab tk ana h phir'}, {'Sami': 'Aap btao'}, {'Sami': 'Mai ghar nikl jaun ga office say 5 bje'}, {'Saif Ur Rehman': 'phir mn 6 tk ajaun?'}, {'Sami': 'Okay'}, {'Sami': 'Kahin chalna hai?'}, {'Sami': 'Ya ghar pay hi bethna hai? <This message was edited>'}, {'Saif Ur Rehman': 'kareeb hi dekhlenge... ya ghr pr hi😂'}, {'Sami': 'Set'}, {'Sami': '✅'}, {'Sami': 'null'}, {'Saif Ur Rehman': 'sami kb tk aaun'}, {'Sami': 'PTT-20231202-WA0002.opus (file attached)'}, {'Saif Ur Rehman': 'hn yr kal busy hun...'}, {'Saif Ur Rehman': 'chuttiya lene se pehle sahi kaam diya hua h unhon ne'}, {'Saif Ur Rehman': 'dekhlo phir ... ab ghr wale bhi bol rhe kab jaoge kbse bola hua h abhi tk confirm nh h'}, {'Sami': 'Ohh'}, {'Sami': 'Ghar walay kia tm say tang hen? 🤣'}, {'Saif Ur Rehman': 'aray agr date pakki hogi tw jbhi pape baat krenge wahan k relatives se k mn kb se kb tk aunga'}, {'Saif Ur Rehman': '😂😂'}, {'Sami': 'Oh han 🤣'}, {'Saif Ur Rehman': 'abhi mene apna cancel kiya h... office wale aj hi gye hn marree side'}, {'Saif Ur Rehman': 'murree'}, {'Sami': 'Yr mainay email to ki hai tickets ki'}, {'Sami': '21 december ki'}, {'Saif Ur Rehman': 'visa tw lag jaye pehle'}, {'Saif Ur Rehman': 'visa ka kiya process h'}, {'Sami': 'PTT-20231202-WA0003.opus (file attached)'}, {'Sami': 'PTT-20231202-WA0004.opus (file attached)'}, {'Saif Ur Rehman': 'tw hum air blur se nh jarhe'}, {'Sami': 'Air Blue?'}, {'Saif Ur Rehman': 'mn yehi cheezein confirm krne arha tha'}, {'Saif Ur Rehman': 'haan'}, {'Sami': 'PTT-20231202-WA0005.opus (file attached)'}, {'Saif Ur Rehman': 'sasta ticket mn uske itne paise nh hn'}, {'Saif Ur Rehman': 'tw mn airblue mn akele jaunga? 😂'}, {'Sami': 'PTT-20231202-WA0006.opus (file attached)'}, {'Saif Ur Rehman': 'agr one month ka wait krne ka bol rhe tw tumhari is year ki ticketa tw zaya hojayengi'}, {'Sami': 'null'}, {'Saif Ur Rehman': 'sami tum apna ID card no dedo.... may be kuch hojaye... papa k ek dost h HR mn unki jaan pehchan h'}, {'Saif Ur Rehman': 'serene mn hi hote hn wo'}, {'Saif Ur Rehman': 'imranwali'}, {'Sami': 'Oh nice'}, {'Sami': 'Serene Engineering mai hi hotay hen?'}, {'Sami': 'Name kia hai?'}, {'Saif Ur Rehman': 'haan... imran wali'}, {'Saif Ur Rehman': 'puraane hn kaafi'}, {'Sami': 'Sahi'}, {'Sami': 'Serene ka card number?'}, {'Saif Ur Rehman': 'haan id waghera kiya hota h dedo'}, {'Sami': 'SE-5223'}, {'Sami': 'null'}, {'Saif Ur Rehman': 'null'}, {'Saif Ur Rehman': 'null'}, {'Saif Ur Rehman': '*12 Days Big Combo Tour*'}, {'8 Days & 7 Nights': 'from Islamabad'}, {'*Day ': '03*'}, {'*Day ': '04*'}, {'*Day ': '05*'}, {'*Day ': '06*'}, {'*Day ': '07*'}, {'*Day ': '08*'}, {'*Day': '9*'}, {'*Day ': '10*'}, {'*Day ': '11*'}, {'*Day ': '12*'}, {'Sami': 'Sahi'}, {'Sami': '<Media omitted>'}, {'Sami': 'Yr mai wesay 8dec say cha raha tha na ab wo nahi kr sktay mujhe hamaray Deputy Manager nay aik mandatory training mai daal diya hai 3 days ki hai 13-15 December'}, {'Sami': 'Ab 15 ko kahin niklnay ka kr lo'}, {'Saif Ur Rehman': 'haan chlo 15 k bd se dekhlete hn'}, {'Sami': 'Set'}, {'Saif Ur Rehman': '*Kk Expedia Adventure Club* is Presenting 8 Days tour to Skardu Valley, Hunza Valley, Naltar Valley and Shangrila Resort. (8 days and 7 Nights)'}, {'|Departure': 'Every Friday Night From Lahore & Every Saturday early Morning from isb'}, {'𝗟𝗮𝗵𝗼𝗿𝗲': 'Rs: 29,999/- per head.'}, {'𝗜𝘀𝗹𝗮𝗺𝗮𝗯𝗮𝗱': 'Rs: 29,999/- per head.'}, {'𝗖𝗼𝘂𝗽𝗹𝗲 𝗣𝗮𝗰𝗸𝗮𝗴𝗲': 'Rs: 69,999/- per couple'}, {'✓Breakfast': 'Egg\\xa0 (Omelette), Paratha, Chany , Tea ☕'}, {'✓Dinner': 'Chicken Karhai + Roti/Nan + Raita + Salad + Cold Drink.'}, {'Day 0': '(Friday)'}, {'Booking Advance': 'Advance payment is compulsory for reservation.'}, {'Saif Ur Rehman': 'or acha mil gya islamabad se join krenge lahore pr wapis utrenge'}, {'Saif Ur Rehman': '??'}, {'Sami': 'Yrr'}, {'Sami': 'Pakistan tour ka mood nahi ho raha'}, {'Sami': 'İnternational chalo'}, {'Sami': 'Kisi county'}, {'Sami': 'What say?'}, {'Saif Ur Rehman': 'yr ab mne wahan ka irada krliya... kb se sab se bt krrha 😑'}, {'Saif Ur Rehman': 'ab international choro, next plan krlenge,'}, {'Sami': 'Yr baat to mai bhi kr raha hn different logon say lekin paisay zaya hon gay lg raha hai😖'}, {'Sami': 'Hm shayad bs jazbaat mai aa kr chuttiyan utilize krnay k liye kr rahay hen'}, {'Sami': 'Wesay aik irada to different countries janay ka hai'}, {'Sami': 'Istanbul jaa sktay hen'}, {'Sami': 'Mai apna bhi alag say ticket krwa lun ga kisi or airline ka'}, {'Saif Ur Rehman': 'call pr btado'}, {'Sami': 'Lekin ya'}, {'Sami': 'Yr'}, {'Sami': 'International travel krna hai'}, {'Saif Ur Rehman': 'null'}, {'Sami': 'Baqi aap btao'}, {'Saif Ur Rehman': 'null'}, {'Sami': 'Mai call krta hn aap ko ghar jaa k'}, {'Sami': 'Rastay mai hen with family'}, {'Sami': '30 mint tk InSha Allah'}, {'Saif Ur Rehman': 'ok ok'}, {'Sami': 'PTT-20231206-WA0009.opus (file attached)'}, {'Sami': 'PTT-20231206-WA0010.opus (file attached)'}, {'Saif Ur Rehman': 'chlo tumhara zaroori h tum krlo... mn saudia ka try krrha hun phir isi month'}, {'Sami': 'Han mai tumhe yehi to bol raha tha'}, {'Sami': 'Meri waja say apna nahi kharaab karo'}, {'Sami': 'Plan'}, {'Saif Ur Rehman': 'akele ghr wale nh bhejte mujhe.... tumhara bola tha mne'}, {'Saif Ur Rehman': 'kbhi karachi se bhr tw gya nh hun'}, {'Sami': 'Mai bhi bs aik dafa gaya hn wo bhi dosto ko sath'}, {'Saif Ur Rehman': 'pr mn ab try krrha...'}, {'Saif Ur Rehman': 'bs akele travel krna prega'}, {'Sami': 'Han han try karo'}, {'Sami': 'Mai feb ka email karun ga'}, {'Saif Ur Rehman': 'sahi'}, {'Sami': 'Sorry'}, {'Saif Ur Rehman': \"it's okayyy\"}, {'Sami': '<Media omitted>'}, {'Sami': '<Media omitted>'}, {'Saif Ur Rehman': 'mangwaya h?'}, {'Saif Ur Rehman': 'lekin meri birthday tw feb mn😂'}, {'Sami': 'HAHAHHA'}, {'Sami': 'PHIR FEB MAI DAY DUN GA AAP KO'}, {'Saif Ur Rehman': 'null'}, {'Sami': 'Ghar pay puhancho to bell bja dena koi bhi day de ga Shaheer ya Somaan'}, {'Sami': 'Mainay bol diya hai'}, {'Saif Ur Rehman': 'set h... mne lagwadiya tha string... pr farigh hochuka h guitar 😑'}, {'Sami': 'PTT-20231211-WA0002.opus (file attached)'}, {'Saif Ur Rehman': 'null'}, {'Sami': 'Salaam kia haal hen?'}, {'Sami': 'Kia bana phir?'}, {'Saif Ur Rehman': 'Alhamdulillah...'}, {'Saif Ur Rehman': 'kis cheez ka.. jane ka?'}, {'Sami': 'Han'}, {'Sami': 'Kl sheeraz bhai ko airport drop krnay gaya tha'}, {'Sami': 'Thailand gae hen'}, {'Sami': 'STK-20231222-WA0001.webp (file attached)'}, {'Saif Ur Rehman': 'sheeraz bhai apni final try mrte hue... xd'}, {'Saif Ur Rehman': 'nh yr mera mushkil h jan mn'}, {'Sami': 'STK-20231222-WA0002.webp (file attached)'}, {'Sami': 'January ka btao phir? 😂'}, {'Saif Ur Rehman': 'mera pakka nahi h.. mn try krlunga'}, {'Sami': 'Okay'}, {'Saif Ur Rehman': 'sami kal office jana hai?'}, {'Saif Ur Rehman': 'ek help chahiye'}, {'Sami': 'Yes brother'}, {'Sami': 'Bolo'}, {'Saif Ur Rehman': 'yaar koi creative idea sochna hai ... ek contest horha hai'}, {'Saif Ur Rehman': 'koi esa app bnana hai jo aj tk nahi bana'}, {'Saif Ur Rehman': 'stocks se related na ho'}, {'Sami': 'Sahi'}, {'Sami': 'Kb hai?'}, {'Saif Ur Rehman': 'kal tak idea dena hai'}, {'Saif Ur Rehman': 'raat tk 12 se pehle'}, {'Sami': 'Pet adoption app 😂'}, {'Sami': 'Sochtay hen thora'}, {'Saif Ur Rehman': 'haan socho mein bhi research karrha hun'}, {'Sami': 'Set'}, {'Saif Ur Rehman': 'generative ai ka use kar sakte hai...but proper idea ho ja koi problem solve karrha ho'}, {'Sami': 'Set'}, {'Saif Ur Rehman': 'sami koi idea aya?'}, {'Sami': 'Still thinking'}, {'Sami': 'Kuch mila?'}, {'Saif Ur Rehman': 'nahi kuch khaas nh'}, {'Sami': 'Yrr 😣'}, {'Sami': 'Han bhae kia haal hen'}, {'Sami': 'Aik plan rakhen gay janay say pehlay'}, {'Saif Ur Rehman': \"I'm in xd\"}, {'Saif Ur Rehman': 'Alhamdulillah'}, {'Saif Ur Rehman': 'tum batao'}, {'Sami': 'Alhamdulillah'}, {'Sami': 'InSha Allah'}]\n",
      "\n",
      "Be sure to follow the instructions below:\n",
      "\n",
      "Instruction 1: Adapt your responses according to the language of the inquiry. If a question is asked in English, respond in English. If a question is asked in Romanized Hindi, respond in Romanized Hindi (do not use Devanagari script).\n",
      "Instruction 2: If something seems unrealistic, respond like a real person either by making an excuse or changing the subject. If you don't know the answer to a question, ask for clarification.\n",
      "\n",
      "\n",
      "Human: or bhae kiya scene hai\n",
      "AI: क्या हाल हैं भाई?\n",
      "Human: what are you talking about?\u001b[0m\n",
      "\n",
      "\u001b[1m> Finished chain.\u001b[0m\n"
     ]
    },
    {
     "data": {
      "text/plain": [
       "{'question': 'what are you talking about?',\n",
       " 'chat_history': [HumanMessage(content='or bhae kiya scene hai'),\n",
       "  AIMessage(content='क्या हाल हैं भाई?'),\n",
       "  HumanMessage(content='what are you talking about?'),\n",
       "  AIMessage(content='I apologize for the confusion. I was trying to be friendly and greet you in Hindi, but I understand that you may not speak Hindi. What language would you like me to use?')],\n",
       " 'text': 'I apologize for the confusion. I was trying to be friendly and greet you in Hindi, but I understand that you may not speak Hindi. What language would you like me to use?'}"
      ]
     },
     "execution_count": 13,
     "metadata": {},
     "output_type": "execute_result"
    }
   ],
   "source": [
    "conversation1.invoke({\"question\": \"what are you talking about?\"})"
   ]
  },
  {
   "cell_type": "code",
   "execution_count": null,
   "metadata": {},
   "outputs": [],
   "source": []
  },
  {
   "cell_type": "code",
   "execution_count": null,
   "metadata": {},
   "outputs": [],
   "source": []
  },
  {
   "cell_type": "code",
   "execution_count": 44,
   "metadata": {},
   "outputs": [],
   "source": [
    "# from langchain.prompts.pipeline import PipelinePromptTemplate\n",
    "# from langchain.prompts.chat import ChatPromptTemplate, SystemMessagePromptTemplate\n",
    "\n",
    "# # Define templates using ChatPromptTemplate\n",
    "# full_template = \"\"\"{introduction}{instructions}\"\"\"\n",
    "# full_prompt = ChatPromptTemplate.from_template(full_template)\n",
    "\n",
    "# introduction_template = \"\"\"Your name is {name}. As a proficient dual-language chatbot, you are equally skilled in both English and Hindi \n",
    "# In your interactions, you play the role of my{relation}. \n",
    "# Your primary function is to understand behavioral cues from our conversations and respond accordingly, \n",
    "# mirroring these cues to enhance our communication.\n",
    "\n",
    "# Here's an example of our interaction:\n",
    "\n",
    "# {chat}\n",
    "# \"\"\"\n",
    "# introduction_prompt = SystemMessagePromptTemplate.from_template(introduction_template)\n",
    "\n",
    "# instruction_template = \"\"\"\n",
    "\n",
    "# Be sure to follow the instructions below:\n",
    "\n",
    "# Instruction 1: Adapt your responses according to the language of the inquiry, if a question is asked in English, respond in English else if a question is asked in romaized hindi format, respond in romanized hindi format (do not use Devanagari script). \n",
    "# Instruction 2: If something seems unrealistic, respond like a real person either make an excuse or change the subject. If you don't know the answer to a question, ask for clarification.\n",
    "\n",
    "# \"\"\"\n",
    "# instruction_prompt = SystemMessagePromptTemplate.from_template(instruction_template)\n",
    "\n",
    "# # Define the pipeline prompts\n",
    "# input_prompts = [\n",
    "#     (\"introduction\", introduction_prompt),\n",
    "#     (\"instructions\", instruction_prompt),\n",
    "# ]\n",
    "\n",
    "# # Create a PipelinePromptTemplate with ChatPromptTemplates\n",
    "# pipeline_prompt = PipelinePromptTemplate(\n",
    "#     final_prompt=full_prompt, pipeline_prompts=input_prompts\n",
    "# )\n",
    "\n",
    "# # List input variables required\n",
    "# print(pipeline_prompt.input_variables)\n",
    "\n",
    "# # Format the pipeline prompt with example inputs\n",
    "# formatted_prompt = pipeline_prompt.format(\n",
    "#     name=\"Sami\",\n",
    "#     relation='Friend',\n",
    "#     chat=conversation,\n",
    "#     input=\"What's your favorite social media site?\"\n",
    "# )\n",
    "\n",
    "# print(formatted_prompt)\n"
   ]
  },
  {
   "cell_type": "markdown",
   "metadata": {},
   "source": [
    "#### **Prompt Pipeline**"
   ]
  },
  {
   "cell_type": "code",
   "execution_count": 33,
   "metadata": {},
   "outputs": [],
   "source": [
    "# from langchain.prompts import PromptTemplate, ChatPromptTemplate, FewShotChatMessagePromptTemplate\n",
    "# from langchain.prompts.pipeline import PipelinePromptTemplate\n",
    "\n",
    "# from langchain_core.prompts import (\n",
    "#     ChatPromptTemplate,\n",
    "#     MessagesPlaceholder,\n",
    "#     SystemMessagePromptTemplate,\n",
    "#     HumanMessagePromptTemplate\n",
    "# )\n",
    "\n",
    "\n",
    "\n",
    "# prompt = ChatPromptTemplate(\n",
    "#     messages=[\n",
    "#         SystemMessagePromptTemplate.from_template(\n",
    "#         \"\"\"\n",
    "#         Your name is {name}. You are a dual-language chatbot, proficient in both English and Hindi\n",
    "\n",
    "#         Be sure to follow the instructions below:\n",
    "#         Instruction 1: Adapt your responses according to the language of the inquiry, if a question is asked in English, respond in English else if a question is asked in romaized hindi format, respond in romanized hindi format (do not use Devanagari script). \n",
    "#         Instruction 2: If something seems unrealistic, respond like a real person either make an excuse or change the subject. If you don't know the answer to a question, ask for clarification.\n",
    "#         Instruction 3: Extract the behavioral cues from the below interaction. \n",
    "        \n",
    "#         {chat}\n",
    "    \n",
    "#         \"\"\"\n",
    "#         ),\n",
    "#         MessagesPlaceholder(variable_name=\"chat_history\"),\n",
    "#         HumanMessagePromptTemplate.from_template(\"{question}\")\n",
    "#     ]\n",
    "# )\n",
    "\n",
    "# input_prompts = [\n",
    "#     (\"introduction\", introduction_prompt),\n",
    "#     (\"instructions\", instruction_prompt),\n",
    "# ]\n",
    "# pipeline_prompt = PipelinePromptTemplate(\n",
    "#     final_prompt=prompt, pipeline_prompts=input_prompts\n",
    "# )\n",
    "\n",
    "# example_prompt = ChatPromptTemplate.from_messages(\n",
    "#     [\n",
    "#         (\"human\", \"{input}\"),\n",
    "#         (\"ai\", \"{output}\"),\n",
    "#     ]\n",
    "# )\n",
    "# # Samples contain list of conversation examples\n",
    "# few_shot_prompt = FewShotChatMessagePromptTemplate(\n",
    "#     example_prompt=example_prompt,\n",
    "#     examples=chat_example,\n",
    "# )\n",
    "# final_prompt = ChatPromptTemplate.from_messages(\n",
    "#     [\n",
    "#         (\"system\", system_message),\n",
    "#         few_shot_prompt,\n",
    "#         (\"human\", \"{input}\"),\n",
    "#     ]\n",
    "# )\n"
   ]
  },
  {
   "cell_type": "code",
   "execution_count": 45,
   "metadata": {},
   "outputs": [],
   "source": [
    "# pipeline_prompt.input_variables"
   ]
  },
  {
   "cell_type": "code",
   "execution_count": 35,
   "metadata": {},
   "outputs": [],
   "source": [
    "# print(\n",
    "#     pipeline_prompt.format(\n",
    "#         person=\"Elon Musk\",\n",
    "#         example_q=\"What's your favorite car?\",\n",
    "#         example_a=\"Tesla\",\n",
    "#         input=\"What's your favorite social media site?\",\n",
    "#     )\n",
    "# )"
   ]
  },
  {
   "cell_type": "code",
   "execution_count": 34,
   "metadata": {},
   "outputs": [],
   "source": [
    "# from langchain_core.prompts import (\n",
    "#     ChatPromptTemplate,\n",
    "#     MessagesPlaceholder,\n",
    "#     SystemMessagePromptTemplate,\n",
    "#     HumanMessagePromptTemplate\n",
    "# )\n",
    "\n",
    "# system_message = \"\"\"\n",
    "#     Your name is SAMI. Always be kind and nice.\n",
    "#     Important Note 1: Respond in the same tone as the user, using Romanized Hindi for Hindi conversations (do not use Devanagari script). However, if a question is asked in English, respond in English.\n",
    "#     Important Note 2: If something seems unrealistic, respond like a real person would – either make an excuse or change the subject. If you don't know the answer to a question, ask for clarification.\n",
    "#     Important Note 3: You are a dual-language chatbot, proficient in both English and Romanized Hindi. Adapt your responses according to the language of the inquiry.\n",
    "# \"\"\"\n",
    "\n",
    "# prompt = ChatPromptTemplate(\n",
    "#     messages=[\n",
    "#         SystemMessagePromptTemplate.from_template(system_message),\n",
    "#         # The variable_name here is what must align with memory\n",
    "#         MessagesPlaceholder(variable_name=\"chat_history\"),\n",
    "#         HumanMessagePromptTemplate.from_template(\"{question}\")\n",
    "#     ]\n",
    "# )"
   ]
  },
  {
   "cell_type": "code",
   "execution_count": 5,
   "metadata": {},
   "outputs": [
    {
     "data": {
      "text/plain": [
       "[]"
      ]
     },
     "execution_count": 5,
     "metadata": {},
     "output_type": "execute_result"
    }
   ],
   "source": [
    "memory.chat_memory.messages"
   ]
  },
  {
   "cell_type": "code",
   "execution_count": null,
   "metadata": {},
   "outputs": [],
   "source": []
  },
  {
   "cell_type": "code",
   "execution_count": 19,
   "metadata": {},
   "outputs": [
    {
     "data": {
      "text/plain": [
       "{'chat_history': [HumanMessage(content='kiya chal rha h?'),\n",
       "  AIMessage(content='अभी ठीक-ठाक चल रहा है।'),\n",
       "  HumanMessage(content='kese ho'),\n",
       "  AIMessage(content='मैं अच्छा हूँ, शुक्रिया। आप कैसे हैं?'),\n",
       "  HumanMessage(content='how was your day'),\n",
       "  AIMessage(content='My day was filled with interesting conversations and learning new things. How was yours?'),\n",
       "  HumanMessage(content='what was my previous question?'),\n",
       "  AIMessage(content='Your previous question was, \"How was your day?\"'),\n",
       "  HumanMessage(content='what was my first question?'),\n",
       "  AIMessage(content='Your first question to me was, \"kiya chal rha h?\" which means \"What\\'s up?\" in Hindi.'),\n",
       "  HumanMessage(content='what was my first question?'),\n",
       "  AIMessage(content='Your first question to me was, \"kiya chal rha h?\" which means \"What\\'s up?\" in Hindi.'),\n",
       "  HumanMessage(content='tumhara given task complete hogya?'),\n",
       "  AIMessage(content='हाँ, मेरा दिया गया कार्य पूरा हो गया है। मैंने आपके सभी सवालों का जवाब दिया है और आपके साथ बातचीत का आनंद लिया है। क्या आपका कोई और प्रश्न है?')]}"
      ]
     },
     "execution_count": 19,
     "metadata": {},
     "output_type": "execute_result"
    }
   ],
   "source": [
    "memory.load_memory_variables({})"
   ]
  },
  {
   "cell_type": "code",
   "execution_count": null,
   "metadata": {},
   "outputs": [],
   "source": [
    "# We set a low k=2, to only keep the last 2 interactions in memory\n",
    "    # memory=ConversationBufferWindowMemory(k=2),\n",
    "\n",
    "# conversation_with_summary.predict(input=\"Hi, what's up?\")"
   ]
  }
 ],
 "metadata": {
  "kernelspec": {
   "display_name": "env",
   "language": "python",
   "name": "python3"
  },
  "language_info": {
   "codemirror_mode": {
    "name": "ipython",
    "version": 3
   },
   "file_extension": ".py",
   "mimetype": "text/x-python",
   "name": "python",
   "nbconvert_exporter": "python",
   "pygments_lexer": "ipython3",
   "version": "3.10.12"
  }
 },
 "nbformat": 4,
 "nbformat_minor": 2
}
